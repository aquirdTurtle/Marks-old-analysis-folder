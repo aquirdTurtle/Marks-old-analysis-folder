{
 "cells": [
  {
   "cell_type": "markdown",
   "metadata": {},
   "source": [
    "# foo <font color='red'>??-??-?? Data Analysis Notebook</font>**`??-??-?? Data Analysis Notebook`**"
   ]
  },
  {
   "cell_type": "markdown",
   "metadata": {},
   "source": [
    "## Daily Goals"
   ]
  },
  {
   "cell_type": "markdown",
   "metadata": {},
   "source": [
    "[Enter Goals Here]"
   ]
  },
  {
   "cell_type": "markdown",
   "metadata": {},
   "source": [
    "## Daily Summary"
   ]
  },
  {
   "cell_type": "markdown",
   "metadata": {},
   "source": [
    "[Enter Summary Here]"
   ]
  },
  {
   "cell_type": "markdown",
   "metadata": {
    "heading_collapsed": true
   },
   "source": [
    "# `Prelimiaries`"
   ]
  },
  {
   "cell_type": "markdown",
   "metadata": {
    "heading_collapsed": true,
    "hidden": true
   },
   "source": [
    "## Globals and Includes"
   ]
  },
  {
   "cell_type": "code",
   "execution_count": 1,
   "metadata": {
    "ExecuteTime": {
     "end_time": "2016-09-03T01:32:21.317794",
     "start_time": "2016-09-03T01:32:07.749692"
    },
    "collapsed": true,
    "hidden": true
   },
   "outputs": [],
   "source": [
    "date = \"160828\"  \n",
    "directory = \"//Andor/share/Data and documents/Data repository/\" + date + \"/\"\n",
    "import pandas as pd\n",
    "import numpy as np\n",
    "import matplotlib.pyplot as plt\n",
    "import matplotlib as mpl\n",
    "from scipy.optimize import curve_fit as fit\n",
    "from matplotlib.ticker import ScalarFormatter\n",
    "from matplotlib import gridspec\n",
    "%matplotlib inline"
   ]
  },
  {
   "cell_type": "code",
   "execution_count": 9,
   "metadata": {
    "ExecuteTime": {
     "end_time": "2016-09-03T01:35:12.881084",
     "start_time": "2016-09-03T01:35:12.876571"
    },
    "collapsed": false,
    "hidden": true
   },
   "outputs": [
    {
     "data": {
      "application/javascript": [
       "// use the javascript language in this cell to control how the notebook itself behaves.\n",
       "// Effectively Get rid of the scrollbar on the output, just let it be large.\n",
       "IPython.OutputArea.auto_scroll_threshold = 9999;"
      ],
      "text/plain": [
       "<IPython.core.display.Javascript object>"
      ]
     },
     "metadata": {},
     "output_type": "display_data"
    }
   ],
   "source": [
    "%%javascript \n",
    "// use the javascript language in this cell to control how the notebook itself behaves.\n",
    "// Effectively Get rid of the scrollbar on the output, just let it be large.\n",
    "IPython.OutputArea.auto_scroll_threshold = 9999;"
   ]
  },
  {
   "cell_type": "markdown",
   "metadata": {
    "heading_collapsed": true,
    "hidden": true
   },
   "source": [
    "## Matplotlib Defaults"
   ]
  },
  {
   "cell_type": "code",
   "execution_count": 10,
   "metadata": {
    "ExecuteTime": {
     "end_time": "2016-09-03T01:35:16.859765",
     "start_time": "2016-09-03T01:35:16.852437"
    },
    "collapsed": true,
    "hidden": true
   },
   "outputs": [],
   "source": [
    "# set matplotlib plot defaults :D\n",
    "# These values are nice for a dark theme.\n",
    "mpl.rcParams['text.color'] = '#ffffff'\n",
    "mpl.rcParams['figure.edgecolor'] = '#ffffff'\n",
    "mpl.rcParams['xtick.color'] = '#ffffff'\n",
    "mpl.rcParams['ytick.color'] = '#ffffff'\n",
    "mpl.rcParams['figure.facecolor'] = '#000000'\n",
    "mpl.rcParams['axes.facecolor'] = '#0a0a0a'\n",
    "mpl.rcParams['figure.figsize'] = (18.0, 8.0)\n",
    "mpl.rcParams['axes.labelcolor'] = '#ffffff'\n",
    "mpl.rcParams['grid.color'] = '#aaaaff'\n",
    "mpl.rcParams['axes.edgecolor'] = '#ffffff'\n",
    "mpl.rcParams['legend.facecolor'] = '#0a0a0a'\n",
    "mpl.rcParams['axes.grid'] = True\n",
    "mpl.rcParams['axes.formatter.useoffset'] = False"
   ]
  },
  {
   "cell_type": "markdown",
   "metadata": {
    "heading_collapsed": true,
    "hidden": true
   },
   "source": [
    "## Fitting Functions"
   ]
  },
  {
   "cell_type": "code",
   "execution_count": 2,
   "metadata": {
    "ExecuteTime": {
     "end_time": "2016-09-03T01:33:29.091778",
     "start_time": "2016-09-03T01:33:29.029466"
    },
    "collapsed": true,
    "hidden": true
   },
   "outputs": [],
   "source": [
    "# Fits \n",
    "def quadratic(x,a,b,x0):\n",
    "    # This assumes downward facing. Best to write another function for upward facing if need be, I think.\n",
    "    if a < 0:\n",
    "        return 10**10\n",
    "    if b > 0:\n",
    "        return 10**10\n",
    "    return a + b*(x-x0)**2\n",
    "\n",
    "\n",
    "def gaussian(x, A1, x01, sig1, offset):\n",
    "    if (offset < 0):\n",
    "        return 10**10\n",
    "    return offset + A1 * np.exp(-(x-x01)**2/(2*sig1**2))\n",
    "\n",
    "\n",
    "def doubleGaussian(x, A1, x01, sig1, A2, x02, sig2, offset):\n",
    "    if (A1 < 0 or A2 < 0):\n",
    "        # Penalize negative fits.\n",
    "        return 10**10\n",
    "    if (offset < 0):\n",
    "        return 10**10\n",
    "    return offset + A1 * np.exp(-(x-x01)**2/(2*sig1**2)) + A2 * np.exp(-(x-x02)**2/(2*sig2**2))\n",
    "\n",
    "\n",
    "def tripleGaussian(x, A1, x01, sig1, A2, x02, sig2, A3, x03, sig3, offset ):\n",
    "    if (A1 < 0 or A2 < 0 or A3 < 0):\n",
    "        # Penalize negative fits.\n",
    "        return 10**10\n",
    "    if (offset < 0):\n",
    "        return 10**10\n",
    "    return (offset + A1 * np.exp(-(x-x01)**2/(2*sig1**2)) + A2 * np.exp(-(x-x02)**2/(2*sig2**2)) \n",
    "            + A3 * np.exp(-(x-x03)**2/(2*sig3**2)))        \n",
    "\n",
    "\n",
    "def decayingCos(x, A, tau, f, phi, offset):\n",
    "    # Just for sanity. Keep some numbers positive.\n",
    "    if (A < 0):\n",
    "        return x * 10**10\n",
    "    if (phi < 0):\n",
    "        return x * 10**10\n",
    "    if (offset < 0):\n",
    "        return x * 10**10\n",
    "    # no growing fits.\n",
    "    if (tau > 0):\n",
    "        return x * 10**10\n",
    "    return offset + (1 - A/2 * np.exp(-x/tau) * np.cos(2 * np.pi * f * x + phi))\n",
    "\n",
    "\n",
    "def sinc2(x, A, center, scale, offset):\n",
    "    \"\"\"\n",
    "    The 2 here referes to squared!\n",
    "    \"\"\"\n",
    "    if (offset < 0):\n",
    "        return x * 10**10\n",
    "    if (A < 0):\n",
    "        return x * 10**10\n",
    "    return (A * np.sinc((x - center)/scale)**2 + offset)\n",
    "\n",
    "\n",
    "def lorentzian(x, A, center, width, offset):\n",
    "    if (offset < 0):\n",
    "        return x * 10**10\n",
    "    if (A < 0):\n",
    "        return x * 10**10\n",
    "    return (A /((x - center)**2 + (width/2)**2))\n",
    "\n",
    "\n",
    "def poissonian(x, k, weight):    \n",
    "    \"\"\"\n",
    "    This function calculates p_k{x} = weight * e^(-k) * k^x / x!.\n",
    "    :param x: argument of the poissonian\n",
    "    :param k: order or (approximate) mean of the poissonian.\n",
    "    :param weight: a weight factor, related to the maximum data this is supposed to be fitted to, but typically over-\n",
    "    weighted for the purposes of this function.\n",
    "    :return: the poissonian evaluated at x given the parametes.\n",
    "    \"\"\"\n",
    "    import numpy as np\n",
    "    term = 1\n",
    "    # calculate the term k^x / x!. Can't do this directly, x! is too large.\n",
    "    for n in range(0, int(x)):\n",
    "        term *= k / (x - n)\n",
    "    return np.exp(-k) * term * weight\n"
   ]
  },
  {
   "cell_type": "markdown",
   "metadata": {
    "heading_collapsed": true,
    "hidden": true
   },
   "source": [
    "## The Import Data Function"
   ]
  },
  {
   "cell_type": "code",
   "execution_count": null,
   "metadata": {
    "code_folding": [],
    "collapsed": true,
    "hidden": true
   },
   "outputs": [],
   "source": [
    "def importData(date, name, runNumber):\n",
    "    \"\"\"\n",
    "    This function imports the data created by my first-step python code.\n",
    "    :param date: the date in YYMMDD format so that the code knows where to look for the data.\n",
    "    :param name: the name of the compiled data file, minus _run?? (e.g. it's standardized for carrier calibrations\n",
    "    :param runNumber: The run number.\n",
    "    :return: returns an OrderedDictionary object from the collections library that contains all the information about\n",
    "             a run.\n",
    "    \"\"\"\n",
    "    from collections import OrderedDict as dic\n",
    "    data = dic()\n",
    "    with open('//andor/share/Data and documents/Data repository/' + str(date) + '/' + str(name) + '_run'\n",
    "              + str(runNumber) + '.csv') as myfile:\n",
    "        fileText = myfile.read().replace('\\n', '')\n",
    "        rows = []\n",
    "        for row in fileText.split(':'):\n",
    "            rows.append(row.replace('\\t', ''))\n",
    "        del rows[0]\n",
    "        for itemInc in range(0, len(rows), 2):\n",
    "            if (rows[itemInc + 1].find(';')) != -1:\n",
    "                itemData = dic()\n",
    "                subrows = []\n",
    "                for subrow in rows[itemInc + 1].split(';'):\n",
    "                    subrows.append(subrow)\n",
    "                del subrows[0]\n",
    "                for subitem in range(0, len(subrows), 2):\n",
    "                    try:\n",
    "                        itemData[subrows[subitem]] = [float(item) for item in (subrows[subitem + 1].split(','))]\n",
    "                    except:\n",
    "                        itemData[subrows[subitem]] = subrows[subitem + 1].split(',')\n",
    "\n",
    "                data[rows[itemInc]] = itemData\n",
    "            else:\n",
    "                try:\n",
    "                    data[rows[itemInc]] = [float(item) for item in (rows[itemInc + 1].split(','))]\n",
    "                except:\n",
    "                    data[rows[itemInc]] = rows[itemInc + 1].split(',')\n",
    "    return data"
   ]
  },
  {
   "cell_type": "markdown",
   "metadata": {
    "heading_collapsed": true,
    "hidden": true
   },
   "source": [
    "## standardSurvivalPlot(data, locs)"
   ]
  },
  {
   "cell_type": "code",
   "execution_count": 1,
   "metadata": {
    "ExecuteTime": {
     "end_time": "2016-09-07T04:08:46.748598",
     "start_time": "2016-09-07T04:08:46.651489"
    },
    "collapsed": true,
    "hidden": true
   },
   "outputs": [],
   "source": [
    "def standardSurvivalPlot(data, locs):\n",
    "    \"\"\"\n",
    "    This function creates a standard plot. It plots survival data, survival fits, data counts, and loading probabilities.\n",
    "    It does all of this in a 12x16 gridspec and leaves one corner open for specializing a given plot.\n",
    "    \"\"\"\n",
    "    # Make colormap. really only need len(locs) + 1 rgbs, but adding an extra makes the spacing of the colors\n",
    "    # on this colormap more sensible.\n",
    "    cmapRGB = mpl.cm.get_cmap('gist_rainbow', len(locs) + 2)\n",
    "    colormap = []\n",
    "    for colorInc in range(cmapRGB.N):\n",
    "        colormap.append(mpl.colors.rgb2hex(cmapRGB(colorInc)[:3]))\n",
    "    # Setup grid\n",
    "    grid1 = mpl.gridspec.GridSpec(12, 16)\n",
    "    grid1.update(left=0.05, right=0.95, wspace=1.2, hspace=1000)\n",
    "    gridLeft = mpl.gridspec.GridSpec(12, 16)\n",
    "    gridLeft.update(left=0.001, right=0.95, hspace=1000)\n",
    "    gridRight = mpl.gridspec.GridSpec(12, 16)\n",
    "    gridRight.update(left=0.2, right=0.946, wspace=0, hspace=1000)\n",
    "    # ### Main Plot\n",
    "    mainPlot = plt.subplot(grid1[:, :12])\n",
    "    # Plot Atoms\n",
    "    for atomInc in range(0, len(locs)):\n",
    "        mainPlot.errorbar(data['Key'], data[locs[atomInc]]['Survival Averages'], yerr=data[locs[atomInc]]['Survival Errors'],\n",
    "                          ls='', marker='o', color=colormap[atomInc], capsize=6, elinewidth=3)\n",
    "        mainPlot.plot(data['xForFit'], data[locs[atomInc]]['fitData'], color=colormap[atomInc], label=locs[atomInc], \n",
    "                      linewidth=3)\n",
    "    # Plot Average\n",
    "    mainPlot.plot(data['xForFit'], data['[Correlation Averages]']['fitData'], color=colormap[len(locs)], \n",
    "                  label='Average', linewidth=3)                                       \n",
    "    mainPlot.errorbar(data['Key'], data['[Correlation Averages]']['Total average single atom survival'], \n",
    "                      yerr=data['[Correlation Errors]']['Total average single atom survival'],\n",
    "                      ls='', marker='o', color=colormap[len(locs)], capsize=6, elinewidth=3)\n",
    "    mainPlot.set_ylim({-0.02, 1.01})\n",
    "    mainPlot.set_xlim({min(data['Key']) - (max(data['Key']) - min(data['Key'])) / len(data['Key']), \n",
    "                      max(data['Key']) + (max(data['Key']) - min(data['Key'])) / len(data['Key'])})\n",
    "    mainPlot.set_xticks(data['Key'])\n",
    "    mainPlot.set_title(\"Survival Data\", fontsize=30)\n",
    "    mainPlot.set_ylabel(\"Survival Probability\", fontsize=20)\n",
    "    mainPlot.set_xlabel(\"Key Values\", fontsize=20)\n",
    "    mainPlot.legend(loc=\"upper center\", bbox_to_anchor=(0.5,-0.1), fancybox=True, ncol=4)\n",
    "    mainPlot.grid(\"on\")\n",
    "    # ### Capture Probabilities Plot\n",
    "    capturePlot = plt.subplot(grid1[8:12, 12:16])\n",
    "    for atomInc in range(len(locs)):\n",
    "        capturePlot.plot(data['Key'], data[locs[atomInc]]['Loading Probabilities'], ls='', marker='o', \n",
    "                         color=colormap[atomInc])\n",
    "        capturePlot.axhline(np.mean(data[locs[atomInc]]['Loading Probabilities']), color=colormap[atomInc])\n",
    "    capturePlot.set_ylim({0, 1})\n",
    "    capturePlot.set_xlim({min(data['Key']) - (max(data['Key']) - min(data['Key'])) / len(data['Key']), \n",
    "                      max(data['Key']) + (max(data['Key']) - min(data['Key'])) / len(data['Key'])})\n",
    "    capturePlot.set_xlabel(\"Key Values\")\n",
    "    capturePlot.set_ylabel(\"Capture %\")\n",
    "    capturePlot.set_title(\"Capture Probabilities\")\n",
    "    capturePlot.grid(\"on\")\n",
    "    # ### Count Series Plot\n",
    "    countDataPlot = plt.subplot(gridRight[4:8, 12:15])\n",
    "    for atomInc in range(len(locs)):\n",
    "        countDataPlot.plot(data[locs[atomInc]]['Data Counts'], color=colormap[atomInc], ls='', marker='.', markersize=1)\n",
    "        countDataPlot.axhline(data[locs[atomInc]]['Threshold'], color=colormap[atomInc])\n",
    "    countDataPlot.set_xlabel(\"Picture #\")\n",
    "    countDataPlot.set_ylabel(\"Camera Signal\")\n",
    "    countDataPlot.set_title(\"Camera Signal Over Time\")\n",
    "    countDataPlot.grid(\"on\")\n",
    "    ticksForVis = countDataPlot.xaxis.get_major_ticks()\n",
    "    ticksForVis[-1].label1.set_visible(False)\n",
    "    # Count Histogram Plot\n",
    "    countHistPlot = plt.subplot(gridLeft[4:8, 15:16], sharey=countDataPlot)\n",
    "    # countHistPlot = plt.subplot2grid((16, 16), (4, 15), rowspan=4, sharey=countDataPlot)\n",
    "    for atomInc in range(len(locs)):\n",
    "        countHistPlot.hist(data[locs[atomInc]][\"Data Counts\"], 50, color=colormap[atomInc], orientation='horizontal',\n",
    "                           alpha=1/len(locs))\n",
    "        countHistPlot.axhline(data[locs[atomInc]][\"Threshold\"], color=colormap[atomInc])\n",
    "    ticks = countHistPlot.get_xticklabels()\n",
    "    for tickInc in range(len(ticks)):\n",
    "        ticks[tickInc].set_rotation(-45)\n",
    "    plt.setp(countHistPlot.get_yticklabels(), visible=False)"
   ]
  },
  {
   "cell_type": "markdown",
   "metadata": {
    "hidden": true
   },
   "source": [
    "## Data Structure Usage"
   ]
  },
  {
   "cell_type": "markdown",
   "metadata": {
    "hidden": true
   },
   "source": [
    "Current Base Key Strings (data['???']):  \n",
    "- Key List\n",
    "- Date\n",
    "- Run Number\n",
    "- Repetitions\n",
    "- Pictures Per Experiment\n",
    "- Key\n",
    "- < Atom Locations >\n",
    "- Correlation Averages\n",
    "- Correlation Errors\n",
    "\n",
    "Current Atom Key Strings (e.g. data['[3, 1]']['???'])\n",
    "- Key List\n",
    "- Survival Averages\n",
    "- Survival Errors\n",
    "- Loading Probabilities\n",
    "- Atom Location\n",
    "- Threshold\n",
    "- Threshold Fidelity\n",
    "- Atoms Data\n",
    "\n",
    "Current Multi-Atom Key Strings (e.g. data['[Correlation Averages]']['???'])\n",
    "- Load < 1-max >, atom < 0-max-1 > survived\n",
    "- Load < 1-max >, < 0-max > atoms survived\n",
    "- Load < 1-max >, average single atom survival\n",
    "- Total average single atom survival\n",
    "\n",
    "Similar for Multi-Atom Errors."
   ]
  },
  {
   "cell_type": "markdown",
   "metadata": {
    "hidden": true
   },
   "source": [
    "## Markdown Syntax Quick Guide"
   ]
  },
  {
   "cell_type": "markdown",
   "metadata": {
    "hidden": true
   },
   "source": [
    "Markdown | Table | Example\n",
    "--- | :---: | ---:\n",
    "*It* | `renders` | **nicely**\n",
    "~~1~~ | 2 | 3\n",
    "\n",
    "```str hello = 'world'\n",
    "errBox(\"not an *error*\")\n",
    "return FALSE;```\n",
    "\n",
    "> what is going\n",
    "> on\n",
    "\n",
    "---\n",
    "\n",
    "- Lists\n",
    "+ Are\n",
    "* Fun  \n",
    "\n",
    "\n",
    "***\n",
    "\n",
    "1.  stuff\n",
    "  * Unordered sub-list.\n",
    "1000. Actual numbers don't matter, just that it's a number\n",
    "+ I lied, just the first bullet for a given list determines the type.\n",
    "  1. Ordered sub-list  \n",
    "    hey.\n",
    "    2. what?\n",
    "\n",
    "___\n",
    "\n",
    "html and links are also possible."
   ]
  },
  {
   "cell_type": "markdown",
   "metadata": {
    "collapsed": true
   },
   "source": [
    "# `Data`"
   ]
  },
  {
   "cell_type": "code",
   "execution_count": null,
   "metadata": {
    "collapsed": true
   },
   "outputs": [],
   "source": []
  }
 ],
 "metadata": {
  "anaconda-cloud": {},
  "kernelspec": {
   "display_name": "Python [default]",
   "language": "python",
   "name": "python3"
  },
  "language_info": {
   "codemirror_mode": {
    "name": "ipython",
    "version": 3
   },
   "file_extension": ".py",
   "mimetype": "text/x-python",
   "name": "python",
   "nbconvert_exporter": "python",
   "pygments_lexer": "ipython3",
   "version": "3.5.2"
  }
 },
 "nbformat": 4,
 "nbformat_minor": 1
}
