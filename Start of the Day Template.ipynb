{
 "cells": [
  {
   "cell_type": "markdown",
   "metadata": {},
   "source": [
    "# ??-??-?? Data Analysis Notebook"
   ]
  },
  {
   "cell_type": "markdown",
   "metadata": {},
   "source": [
    "## Daily Goals"
   ]
  },
  {
   "cell_type": "markdown",
   "metadata": {},
   "source": [
    "[Enter Goals Here]"
   ]
  },
  {
   "cell_type": "markdown",
   "metadata": {},
   "source": [
    "## Daily Summary"
   ]
  },
  {
   "cell_type": "markdown",
   "metadata": {},
   "source": [
    "[Enter Summary Here]"
   ]
  },
  {
   "cell_type": "markdown",
   "metadata": {},
   "source": [
    "# Prelimiaries"
   ]
  },
  {
   "cell_type": "markdown",
   "metadata": {
    "heading_collapsed": true
   },
   "source": [
    "## Globals and Includes"
   ]
  },
  {
   "cell_type": "code",
   "execution_count": 1,
   "metadata": {
    "ExecuteTime": {
     "end_time": "2016-09-03T01:32:21.317794",
     "start_time": "2016-09-03T01:32:07.749692"
    },
    "collapsed": true,
    "hidden": true
   },
   "outputs": [],
   "source": [
    "date = \"160828\"  \n",
    "directory = \"//Andor/share/Data and documents/Data repository/\" + date + \"/\"\n",
    "import pandas as pd\n",
    "import numpy as np\n",
    "import matplotlib.pyplot as plt\n",
    "import matplotlib as mpl\n",
    "from scipy.optimize import curve_fit as fit\n",
    "from matplotlib.ticker import ScalarFormatter\n",
    "from matplotlib import gridspec\n",
    "%matplotlib inline"
   ]
  },
  {
   "cell_type": "code",
   "execution_count": 9,
   "metadata": {
    "ExecuteTime": {
     "end_time": "2016-09-03T01:35:12.881084",
     "start_time": "2016-09-03T01:35:12.876571"
    },
    "collapsed": false,
    "hidden": true
   },
   "outputs": [
    {
     "data": {
      "application/javascript": [
       "// use the javascript language in this cell to control how the notebook itself behaves.\n",
       "// Effectively Get rid of the scrollbar on the output, just let it be large.\n",
       "IPython.OutputArea.auto_scroll_threshold = 9999;"
      ],
      "text/plain": [
       "<IPython.core.display.Javascript object>"
      ]
     },
     "metadata": {},
     "output_type": "display_data"
    }
   ],
   "source": [
    "%%javascript \n",
    "// use the javascript language in this cell to control how the notebook itself behaves.\n",
    "// Effectively Get rid of the scrollbar on the output, just let it be large.\n",
    "IPython.OutputArea.auto_scroll_threshold = 9999;"
   ]
  },
  {
   "cell_type": "markdown",
   "metadata": {
    "heading_collapsed": true
   },
   "source": [
    "## Matplotlib Defaults"
   ]
  },
  {
   "cell_type": "code",
   "execution_count": 10,
   "metadata": {
    "ExecuteTime": {
     "end_time": "2016-09-03T01:35:16.859765",
     "start_time": "2016-09-03T01:35:16.852437"
    },
    "collapsed": true,
    "hidden": true
   },
   "outputs": [],
   "source": [
    "# set matplotlib plot defaults :D\n",
    "# These values are nice for a dark theme.\n",
    "mpl.rcParams['text.color'] = '#ffffff'\n",
    "mpl.rcParams['figure.edgecolor'] = '#ffffff'\n",
    "mpl.rcParams['xtick.color'] = '#ffffff'\n",
    "mpl.rcParams['ytick.color'] = '#ffffff'\n",
    "mpl.rcParams['figure.facecolor'] = '#000000'\n",
    "mpl.rcParams['axes.facecolor'] = '#0a0a0a'\n",
    "mpl.rcParams['figure.figsize'] = (18.0, 8.0)\n",
    "mpl.rcParams['axes.labelcolor'] = '#ffffff'\n",
    "mpl.rcParams['grid.color'] = '#aaaaff'\n",
    "mpl.rcParams['axes.edgecolor'] = '#ffffff'\n",
    "mpl.rcParams['legend.facecolor'] = '#0a0a0a'\n",
    "mpl.rcParams['axes.grid'] = True\n",
    "mpl.rcParams['axes.formatter.useoffset'] = False"
   ]
  },
  {
   "cell_type": "markdown",
   "metadata": {
    "heading_collapsed": true
   },
   "source": [
    "## Fitting Functions"
   ]
  },
  {
   "cell_type": "code",
   "execution_count": 2,
   "metadata": {
    "ExecuteTime": {
     "end_time": "2016-09-03T01:33:29.091778",
     "start_time": "2016-09-03T01:33:29.029466"
    },
    "collapsed": true,
    "hidden": true
   },
   "outputs": [],
   "source": [
    "# Fits \n",
    "def quadratic(x,a,b,x0):\n",
    "    # This assumes downward facing. Best to write another function for upward facing if need be, I think.\n",
    "    if a < 0:\n",
    "        return 10**10\n",
    "    if b > 0:\n",
    "        return 10**10\n",
    "    return a + b*(x-x0)**2\n",
    "\n",
    "\n",
    "def gaussian(x, A1, x01, sig1, offset):\n",
    "    if (offset < 0):\n",
    "        return 10**10\n",
    "    return offset + A1 * np.exp(-(x-x01)**2/(2*sig1**2))\n",
    "\n",
    "\n",
    "def doubleGaussian(x, A1, x01, sig1, A2, x02, sig2, offset):\n",
    "    if (A1 < 0 or A2 < 0):\n",
    "        # Penalize negative fits.\n",
    "        return 10**10\n",
    "    if (offset < 0):\n",
    "        return 10**10\n",
    "    return offset + A1 * np.exp(-(x-x01)**2/(2*sig1**2)) + A2 * np.exp(-(x-x02)**2/(2*sig2**2))\n",
    "\n",
    "\n",
    "def tripleGaussian(x, A1, x01, sig1, A2, x02, sig2, A3, x03, sig3, offset ):\n",
    "    if (A1 < 0 or A2 < 0 or A3 < 0):\n",
    "        # Penalize negative fits.\n",
    "        return 10**10\n",
    "    if (offset < 0):\n",
    "        return 10**10\n",
    "    return (offset + A1 * np.exp(-(x-x01)**2/(2*sig1**2)) + A2 * np.exp(-(x-x02)**2/(2*sig2**2)) \n",
    "            + A3 * np.exp(-(x-x03)**2/(2*sig3**2)))        \n",
    "\n",
    "\n",
    "def decayingCos(x, A, tau, f, phi, offset):\n",
    "    if (A < 0):\n",
    "        return 10**10\n",
    "    # Just for sanity. Keep it positive.\n",
    "    if (phi < 0):\n",
    "        return 10**10\n",
    "    if (offset < 0):\n",
    "        return 10**10\n",
    "    # no growing fits.\n",
    "    if (tau > 0):\n",
    "        return 10**10\n",
    "    return offset + A * np.exp(-x/tau) * np.cos(2 * np.pi * f * x + phi)\n",
    "\n",
    "\n",
    "def sinc_squared(x, A, center, scale, offset):\n",
    "    if (offset < 0):\n",
    "        return x * 10**10\n",
    "    if (A < 0):\n",
    "        return x * 10**10\n",
    "    return (A * np.sinc(scale*(x - center))**2 + offset)\n",
    "\n",
    "\n",
    "def lorentzian(x, A, center, width, offset):\n",
    "    if (offset < 0):\n",
    "        return x * 10**10\n",
    "    if (A < 0):\n",
    "        return x * 10**10\n",
    "    return (A /((x - center)**2 + (width/2)**2))"
   ]
  },
  {
   "cell_type": "markdown",
   "metadata": {},
   "source": [
    "## The Import Data Function"
   ]
  },
  {
   "cell_type": "code",
   "execution_count": null,
   "metadata": {
    "collapsed": true
   },
   "outputs": [],
   "source": [
    "def importData(date, name, runNumber):\n",
    "    \"\"\"\n",
    "    This function imports the data created by my first-step python code.\n",
    "    :param date: the date in YYMMDD format so that the code knows where to look for the data.\n",
    "    :param name: the name of the compiled data file, minus _run?? (e.g. it's standardized for carrier calibrations\n",
    "    :param runNumber: The run number.\n",
    "    :return: returns an OrderedDictionary object from the collections library that contains all the information about\n",
    "             a run.\n",
    "    \"\"\"\n",
    "    from collections import OrderedDict as dic\n",
    "    data = dic()\n",
    "    with open('//andor/share/Data and documents/Data repository/' + str(date) + '/' + str(name) + '_run'\n",
    "              + str(runNumber) + '.csv') as myfile:\n",
    "        fileText = myfile.read().replace('\\n', '')\n",
    "        rows = []\n",
    "        for row in fileText.split(':'):\n",
    "            rows.append(row.replace('\\t', ''))\n",
    "        del rows[0]\n",
    "        for itemInc in range(0, len(rows), 2):\n",
    "            if (rows[itemInc + 1].find(';')) != -1:\n",
    "                itemData = dic()\n",
    "                subrows = []\n",
    "                for subrow in rows[itemInc + 1].split(';'):\n",
    "                    subrows.append(subrow)\n",
    "                del subrows[0]\n",
    "                for subitem in range(0, len(subrows), 2):\n",
    "                    try:\n",
    "                        itemData[subrows[subitem]] = [float(item) for item in (subrows[subitem + 1].split(','))]\n",
    "                    except:\n",
    "                        itemData[subrows[subitem]] = subrows[subitem + 1].split(',')\n",
    "\n",
    "                data[rows[itemInc]] = itemData\n",
    "            else:\n",
    "                try:\n",
    "                    data[rows[itemInc]] = [float(item) for item in (rows[itemInc + 1].split(','))]\n",
    "                except:\n",
    "                    data[rows[itemInc]] = rows[itemInc + 1].split(',')\n",
    "    return data"
   ]
  },
  {
   "cell_type": "markdown",
   "metadata": {},
   "source": [
    "## Data Structure Usage"
   ]
  },
  {
   "cell_type": "markdown",
   "metadata": {},
   "source": [
    "Current Base Key Strings (data['???']):  \n",
    "- Key List\n",
    "- Date\n",
    "- Run Number\n",
    "- Repetitions\n",
    "- Pictures Per Experiment\n",
    "- Key\n",
    "- < Atom Locations >\n",
    "- Correlation Averages\n",
    "- Correlation Errors\n",
    "\n",
    "Current Atom Key Strings (e.g. data['[3, 1]']['???'])\n",
    "- Key List\n",
    "- Survival Averages\n",
    "- Survival Errors\n",
    "- Loading Probabilities\n",
    "- Atom Location\n",
    "- Threshold\n",
    "- Threshold Fidelity\n",
    "- Atoms Data\n",
    "\n",
    "Current Multi-Atom Key Strings (e.g. data['[Correlation Averages]']['???'])\n",
    "- Load < 1-max >, atom < 0-max-1 > survived\n",
    "- Load < 1-max >, < 0-max > atoms survived\n",
    "- Load < 1-max >, average single atom survival\n",
    "- Total average single atom survival\n",
    "\n",
    "Similar for Multi-Atom Errors."
   ]
  },
  {
   "cell_type": "markdown",
   "metadata": {},
   "source": [
    "## Markdown Syntax Quick Guide"
   ]
  },
  {
   "cell_type": "markdown",
   "metadata": {},
   "source": [
    "Markdown | Table | Example\n",
    "--- | :---: | ---:\n",
    "*It* | `renders` | **nicely**\n",
    "~~1~~ | 2 | 3\n",
    "\n",
    "```str hello = 'world'\n",
    "errBox(\"not an *error*\")\n",
    "return FALSE;```\n",
    "\n",
    "> what is going\n",
    "> on\n",
    "\n",
    "---\n",
    "\n",
    "- Lists\n",
    "+ Are\n",
    "* Fun  \n",
    "\n",
    "\n",
    "***\n",
    "\n",
    "1.  stuff\n",
    "  * Unordered sub-list.\n",
    "1000. Actual numbers don't matter, just that it's a number\n",
    "+ I lied, just the first bullet for a given list determines the type.\n",
    "  1. Ordered sub-list  \n",
    "    hey.\n",
    "    2. what?\n",
    "\n",
    "___\n",
    "\n",
    "html and links are also possible."
   ]
  },
  {
   "cell_type": "code",
   "execution_count": null,
   "metadata": {
    "collapsed": true
   },
   "outputs": [],
   "source": []
  }
 ],
 "metadata": {
  "kernelspec": {
   "display_name": "Python [default]",
   "language": "python",
   "name": "python3"
  },
  "language_info": {
   "codemirror_mode": {
    "name": "ipython",
    "version": 3
   },
   "file_extension": ".py",
   "mimetype": "text/x-python",
   "name": "python",
   "nbconvert_exporter": "python",
   "pygments_lexer": "ipython3",
   "version": "3.5.2"
  }
 },
 "nbformat": 4,
 "nbformat_minor": 1
}
