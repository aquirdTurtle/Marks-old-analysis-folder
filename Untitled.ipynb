{
 "cells": [
  {
   "cell_type": "code",
   "execution_count": 20,
   "metadata": {
    "ExecuteTime": {
     "end_time": "2016-09-26T03:24:43.185419",
     "start_time": "2016-09-26T03:24:43.171916"
    },
    "collapsed": true
   },
   "outputs": [],
   "source": [
    "import numpy as np\n",
    "import matplotlib as mpl\n",
    "from mpl_toolkits.mplot3d import axes3d\n",
    "import matplotlib.pyplot as plt\n",
    "import scipy.fftpack as FT\n",
    "import math as m\n",
    "import sys\n",
    "%matplotlib inline\n",
    "# set matplotlib plot defaults :D\n",
    "# These values are nice for a dark theme.\n",
    "mpl.rcParams['text.color'] = '#ffffff'\n",
    "mpl.rcParams['figure.edgecolor'] = '#ffffff'\n",
    "mpl.rcParams['xtick.color'] = '#ffffff'\n",
    "mpl.rcParams['ytick.color'] = '#ffffff'\n",
    "mpl.rcParams['figure.facecolor'] = '#000000'\n",
    "mpl.rcParams['axes.facecolor'] = '#0a0a0a'\n",
    "#mpl.rcParams['figure.figsize'] = (18.0, 8.0)\n",
    "mpl.rcParams['axes.labelcolor'] = '#ffffff'\n",
    "mpl.rcParams['grid.color'] = '#aaaaff'\n",
    "mpl.rcParams['axes.edgecolor'] = '#ffffff'\n",
    "mpl.rcParams['legend.facecolor'] = '#0a0a0a'\n",
    "mpl.rcParams['axes.grid'] = True\n",
    "mpl.rcParams['axes.formatter.useoffset'] = False"
   ]
  },
  {
   "cell_type": "code",
   "execution_count": 26,
   "metadata": {
    "ExecuteTime": {
     "end_time": "2016-09-26T03:31:21.566406",
     "start_time": "2016-09-26T03:31:21.250766"
    },
    "collapsed": false
   },
   "outputs": [
    {
     "data": {
      "text/plain": [
       "<matplotlib.text.Text at 0x20c5848ceb8>"
      ]
     },
     "execution_count": 26,
     "metadata": {},
     "output_type": "execute_result"
    },
    {
     "data": {
      "image/png": "[encoded data removed]",
      "text/plain": [
       "<matplotlib.figure.Figure at 0x20c5a832198>"
      ]
     },
     "metadata": {},
     "output_type": "display_data"
    }
   ],
   "source": [
    "x = np.arange(-1,1,0.05)\n",
    "sigma = (136*(1-x)-0.2611)*(1-x)/221 * ((8.511 - 0.0163/(1-x)) > 0)\n",
    "plt.plot(x,sigma, 'c', marker='o')\n",
    "plt.title(r'$\\frac{d\\sigma}{dcos(\\theta)}$ vs. $cos(\\theta)$')\n",
    "plt.ylabel(r'$\\frac{d\\sigma}{dcos(\\theta)}$')\n",
    "plt.xlabel(r'$cos(\\theta)$')"
   ]
  },
  {
   "cell_type": "code",
   "execution_count": null,
   "metadata": {
    "collapsed": true
   },
   "outputs": [],
   "source": []
  }
 ],
 "metadata": {
  "anaconda-cloud": {},
  "kernelspec": {
   "display_name": "Python [conda root]",
   "language": "python",
   "name": "conda-root-py"
  },
  "language_info": {
   "codemirror_mode": {
    "name": "ipython",
    "version": 3
   },
   "file_extension": ".py",
   "mimetype": "text/x-python",
   "name": "python",
   "nbconvert_exporter": "python",
   "pygments_lexer": "ipython3",
   "version": "3.5.2"
  }
 },
 "nbformat": 4,
 "nbformat_minor": 1
}
