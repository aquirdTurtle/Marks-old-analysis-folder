{
 "cells": [
  {
   "cell_type": "markdown",
   "metadata": {},
   "source": [
    "# Numerical Homework #3: Applications of Fourier Propagation"
   ]
  },
  {
   "cell_type": "markdown",
   "metadata": {},
   "source": [
    "**Mark O. Brown  \n",
    "September, 2016**"
   ]
  },
  {
   "cell_type": "markdown",
   "metadata": {},
   "source": [
    "## Entire Problem Statement"
   ]
  },
  {
   "cell_type": "markdown",
   "metadata": {},
   "source": [
    "Here you will apply the code you wrote in HW 2 to classical optical systems. I have not given explicit values for grid sizes etc. because I want you to work this out. For example, try to avoid fields hitting the edges of the grid - this will appear as a high frequency ringing on your results as these fields wrap back into the grid and interfere with your desired result. \n",
    "1. Use a paraxial lens with positive power in an imaging system with a -1 magnification. That is, the image is of the same size as the object but inverted relative to the optical axis. If you don't know how to create such a situation, look at an introductory optics book such as Hecht. Let the incident field be a rect. Place an aperture over your lens (a transmission function that is 0 outside some radius). Compare the amplitude and phase of the light in the image plane to that in the object plane for various diameters of the lens iris and demonstrate that the numerical aperture (or F/# if you prefer) of the lens impacts the resolution of the image. You will have to consider the size of your object (the incident rect) the focal length of the lens, the size of your aperture and your computational grid. Note that if you make the aperture sufficiently small, you no longer have an imaging system, you have an illuminated slit.\n",
    "2. Use the same paraxial lens but let the Distance from the object to the lens and the lens to the observation plane (final z in problem) both be one focal length. Comment on the shape of the field you observe in the image plane. \n",
    "3. Implement a sinusoidal phase grating and validate the expected diffraction pattern from a theoretical calculation.\n",
    "4. Demonstrate Talbot images as described in section 4.5.2."
   ]
  },
  {
   "cell_type": "markdown",
   "metadata": {},
   "source": [
    "## Start-up"
   ]
  },
  {
   "cell_type": "code",
   "execution_count": 1,
   "metadata": {
    "ExecuteTime": {
     "end_time": "2016-09-25T18:36:37.850134",
     "start_time": "2016-09-25T18:36:29.997507"
    },
    "collapsed": true
   },
   "outputs": [],
   "source": [
    "import numpy as np\n",
    "import matplotlib as mpl\n",
    "from mpl_toolkits.mplot3d import axes3d\n",
    "import matplotlib.pyplot as plt\n",
    "import scipy.fftpack as FT\n",
    "import math as m\n",
    "import sys\n",
    "%matplotlib inline\n",
    "# set matplotlib plot defaults :D\n",
    "# These values are nice for a dark theme.\n",
    "mpl.rcParams['text.color'] = '#ffffff'\n",
    "mpl.rcParams['figure.edgecolor'] = '#ffffff'\n",
    "mpl.rcParams['xtick.color'] = '#ffffff'\n",
    "mpl.rcParams['ytick.color'] = '#ffffff'\n",
    "mpl.rcParams['figure.facecolor'] = '#000000'\n",
    "mpl.rcParams['axes.facecolor'] = '#0a0a0a'\n",
    "mpl.rcParams['figure.figsize'] = (18.0, 8.0)\n",
    "mpl.rcParams['axes.labelcolor'] = '#ffffff'\n",
    "mpl.rcParams['grid.color'] = '#aaaaff'\n",
    "mpl.rcParams['axes.edgecolor'] = '#ffffff'\n",
    "mpl.rcParams['legend.facecolor'] = '#0a0a0a'\n",
    "mpl.rcParams['axes.grid'] = True\n",
    "mpl.rcParams['axes.formatter.useoffset'] = False"
   ]
  },
  {
   "cell_type": "code",
   "execution_count": 2,
   "metadata": {
    "ExecuteTime": {
     "end_time": "2016-09-25T18:36:37.857140",
     "start_time": "2016-09-25T18:36:37.851134"
    },
    "collapsed": false
   },
   "outputs": [
    {
     "data": {
      "application/javascript": [
       "IPython.OutputArea.auto_scroll_threshold = 9999;"
      ],
      "text/plain": [
       "<IPython.core.display.Javascript object>"
      ]
     },
     "metadata": {},
     "output_type": "display_data"
    }
   ],
   "source": [
    "%%javascript\n",
    "IPython.OutputArea.auto_scroll_threshold = 9999;"
   ]
  },
  {
   "cell_type": "markdown",
   "metadata": {},
   "source": [
    "## Functions"
   ]
  },
  {
   "cell_type": "code",
   "execution_count": 5,
   "metadata": {
    "ExecuteTime": {
     "end_time": "2016-09-25T18:53:33.883647",
     "start_time": "2016-09-25T18:53:33.873638"
    },
    "collapsed": true
   },
   "outputs": [],
   "source": [
    "\n",
    "\n",
    "def fft(field, xpts):\n",
    "    \"\"\"\n",
    "    @param field: the field amplitudes of the field to be transformed\n",
    "    @param xpts: the positions that the field array above have been sampled at. Note that this function assumes\n",
    "        evenly spaced points.\n",
    "    \n",
    "    Takes the fourier transform of a 1-dimensional field, i.e. g{x} -> g_f{f_x}\n",
    "    returns the transform amplitudes and the frequencies in two objects.\n",
    "    \"\"\"\n",
    "    assert(len(xpts) > 1)\n",
    "    assert(len(xpts) == len(field))\n",
    "    spacing = (max(xpts) - min(xpts))/(len(xpts) - 1)    \n",
    "    freqs = FT.fftshift(FT.fftfreq(len(fieldPos), spacing))\n",
    "    fieldFFT = FT.fftshift(FT.fft(FT.ifftshift(field)))\n",
    "    return freqs, fieldFFT\n",
    "\n",
    "\n",
    "def ifft(fieldFFT):\n",
    "    \"\"\"\n",
    "    @param fieldFFT: the field frequency amplitudes \n",
    "    \n",
    "    Takes the inverse fourier transform of a 1-dimensional field, i.e. g_f{f_x} -> g{x}\n",
    "    returns the amplitudes (presumably you already have the x points for those amplitudes.)\n",
    "    \"\"\"\n",
    "    assert(len(fieldFFT) > 1)\n",
    "    field = FT.fftshift(FT.ifft(FT.ifftshift(propFieldFFT)))\n",
    "    return field\n",
    "\n"
   ]
  },
  {
   "cell_type": "code",
   "execution_count": 6,
   "metadata": {
    "ExecuteTime": {
     "end_time": "2016-09-25T18:53:36.603813",
     "start_time": "2016-09-25T18:53:36.592802"
    },
    "collapsed": true
   },
   "outputs": [],
   "source": [
    "def propagate(field, fieldPos, z_fin, wavelength, n=1):    \n",
    "    \"\"\"\n",
    "    Propagate a field a given distance.\n",
    "    \"\"\"\n",
    "    k = 2 * np.pi * n / wavelength\n",
    "    # Important assumption in the following line.\n",
    "    spacing = (max(fieldPos) - min(fieldPos))/(len(fieldPos) - 1)\n",
    "    if not (spacing < wavelength):\n",
    "        print('WARNING: spacing is not sufficient to see evanescant frequencies. Spacing is ' + str(spacing))\n",
    "    freqs, fieldFFT = fft(field, fieldPos)\n",
    "    transferFunc = np.exp(1j * k * z_fin *\n",
    "                        np.sqrt((1 - ((wavelength / n) * freqs)**2).astype(complex)))\n",
    "    propFieldFFT = fieldFFT * transferFunc\n",
    "    field = np.array([], dtype=complex)\n",
    "    field = ifft(propFieldFFT)\n",
    "    return field"
   ]
  },
  {
   "cell_type": "markdown",
   "metadata": {},
   "source": [
    "# Problem #1"
   ]
  },
  {
   "cell_type": "markdown",
   "metadata": {},
   "source": [
    "## Problem Statement"
   ]
  },
  {
   "cell_type": "markdown",
   "metadata": {},
   "source": [
    "Use a paraxial lens with positive power in an imaging system with a -1 magnification. That is, the image is of the same size as the object but inverted relative to the optical axis. If you don't know how to create such a situation, look at an introductory optics book such as Hecht. Let the incident field be a rect. Place an aperture over your lens (a transmission function that is 0 outside some radius). Compare the amplitude and phase of the light in the image plane to that in the object plane for various diameters of the lens iris and demonstrate that the numerical aperture (or F/# if you prefer) of the lens impacts the resolution of the image. You will have to consider the size of your object (the incident rect) the focal length of the lens, the size of your aperture and your computational grid. Note that if you make the aperture sufficiently small, you no longer have an imaging system, you have an illuminated slit."
   ]
  },
  {
   "cell_type": "markdown",
   "metadata": {},
   "source": [
    "## Work"
   ]
  },
  {
   "cell_type": "code",
   "execution_count": null,
   "metadata": {
    "collapsed": true
   },
   "outputs": [],
   "source": []
  },
  {
   "cell_type": "markdown",
   "metadata": {},
   "source": [
    "# Problem #2"
   ]
  },
  {
   "cell_type": "markdown",
   "metadata": {},
   "source": [
    "## Problem Statement"
   ]
  },
  {
   "cell_type": "markdown",
   "metadata": {},
   "source": [
    "Use the same paraxial lens but let the Distance from the object to the lens and the lens to the observation plane (final z in problem) both be one focal length. Comment on the shape of the field you observe in the image plane. "
   ]
  },
  {
   "cell_type": "markdown",
   "metadata": {},
   "source": [
    "## Work"
   ]
  },
  {
   "cell_type": "code",
   "execution_count": null,
   "metadata": {
    "collapsed": true
   },
   "outputs": [],
   "source": []
  },
  {
   "cell_type": "markdown",
   "metadata": {},
   "source": [
    "# Problem #3"
   ]
  },
  {
   "cell_type": "markdown",
   "metadata": {},
   "source": [
    "## Problem Statement"
   ]
  },
  {
   "cell_type": "markdown",
   "metadata": {},
   "source": [
    "Implement a sinusoidal phase grating and validate the expected diffraction pattern from a theoretical calculation."
   ]
  },
  {
   "cell_type": "markdown",
   "metadata": {},
   "source": [
    "## Work"
   ]
  },
  {
   "cell_type": "code",
   "execution_count": null,
   "metadata": {
    "collapsed": true
   },
   "outputs": [],
   "source": []
  },
  {
   "cell_type": "markdown",
   "metadata": {},
   "source": [
    "# Problem #4"
   ]
  },
  {
   "cell_type": "markdown",
   "metadata": {},
   "source": [
    "## Problem Statement"
   ]
  },
  {
   "cell_type": "markdown",
   "metadata": {},
   "source": [
    "Demonstrate Talbot images as described in section 4.5.2."
   ]
  },
  {
   "cell_type": "markdown",
   "metadata": {},
   "source": [
    "## Work"
   ]
  },
  {
   "cell_type": "code",
   "execution_count": null,
   "metadata": {
    "collapsed": true
   },
   "outputs": [],
   "source": []
  },
  {
   "cell_type": "code",
   "execution_count": null,
   "metadata": {
    "collapsed": true
   },
   "outputs": [],
   "source": []
  }
 ],
 "metadata": {
  "anaconda-cloud": {},
  "kernelspec": {
   "display_name": "Python [conda root]",
   "language": "python",
   "name": "conda-root-py"
  },
  "language_info": {
   "codemirror_mode": {
    "name": "ipython",
    "version": 3
   },
   "file_extension": ".py",
   "mimetype": "text/x-python",
   "name": "python",
   "nbconvert_exporter": "python",
   "pygments_lexer": "ipython3",
   "version": "3.5.2"
  }
 },
 "nbformat": 4,
 "nbformat_minor": 1
}
