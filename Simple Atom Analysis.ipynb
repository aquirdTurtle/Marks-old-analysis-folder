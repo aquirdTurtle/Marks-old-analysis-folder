{
 "cells": [
  {
   "cell_type": "markdown",
   "metadata": {},
   "source": [
    "# Simple Atom Analysis Notebook"
   ]
  },
  {
   "cell_type": "markdown",
   "metadata": {},
   "source": [
    "#### This notebook is designed to replicate the Mathematica \"Single_Atom\" Notebook. It's partially a proof of principle that these things can be nicely done in a Jupyter notebook, also to get me familiar with the Python and the Jupyter Notebook, and also to get me more familiar with the analysis"
   ]
  },
  {
   "cell_type": "markdown",
   "metadata": {},
   "source": [
    "### Initialize Constants"
   ]
  },
  {
   "cell_type": "code",
   "execution_count": 1285,
   "metadata": {
    "collapsed": false
   },
   "outputs": [],
   "source": [
    "%matplotlib inline\n",
    "date = \"160519\";\n",
    "fileName = \"ProbeBeamHeatingTimeScan\";\n",
    "runNumber = 36;\n",
    "wellIndicator = 4;\n",
    "accumulations = 150;\n",
    "# Zero-indexed!!!\n",
    "# Horizontal\n",
    "# atomLocation = [1,wellIndicator-1];\n",
    "# Vertical\n",
    "atomLocation = [wellIndicator-1, 1];\n",
    "\n",
    "picturesPerExperiment = 2;\n",
    "atomPeakGuess = 400;"
   ]
  },
  {
   "cell_type": "code",
   "execution_count": 1286,
   "metadata": {
    "collapsed": false
   },
   "outputs": [],
   "source": [
    "### Uninteresting stuff.\n",
    "# Data is saved as \"data.fits\" files\n",
    "from astropy.io import fits\n",
    "import numpy\n",
    "numpy.set_printoptions(threshold=numpy.nan)\n",
    "import matplotlib.pyplot\n",
    "import scipy.optimize\n",
    "import math\n",
    "import scipy.special\n",
    "#dataRepositoryPath = \"\\\\\\\\andor\\\\share\\\\Data and documents\\\\Data repository\\\\\";\n",
    "todaysDataPath = dataRepositoryPath + date + \"\\\\data_\" + str(runNumber) + \".fits\";\n",
    "keyPath = dataRepositoryPath + date + \"\\\\key_\" + str(runNumber) + \".txt\";\n",
    "#todaysDataPath = dataRepositoryPath + date + \"\\\\data.fits\";\n",
    "#keyPath = dataRepositoryPath + \"Key_file\\\\key.txt\""
   ]
  },
  {
   "cell_type": "markdown",
   "metadata": {},
   "source": [
    "### Load Key File"
   ]
  },
  {
   "cell_type": "code",
   "execution_count": 1287,
   "metadata": {
    "collapsed": false
   },
   "outputs": [],
   "source": [
    "key = numpy.array([]);\n",
    "with open(keyPath) as keyFile:\n",
    "    for line in keyFile:\n",
    "        key = numpy.append(key, float(line.strip('\\n')))"
   ]
  },
  {
   "cell_type": "markdown",
   "metadata": {},
   "source": [
    "### Load Fits File & Get Dimensions"
   ]
  },
  {
   "cell_type": "code",
   "execution_count": 1288,
   "metadata": {
    "collapsed": false
   },
   "outputs": [
    {
     "name": "stdout",
     "output_type": "stream",
     "text": [
      "Filename: \\\\andor\\share\\Data and documents\\Data repository\\160519\\data_35.fits\n",
      "No.    Name         Type      Cards   Dimensions   Format\n",
      "0    PRIMARY     PrimaryHDU       9   (3, 9, 300)   int32   \n"
     ]
    }
   ],
   "source": [
    "# Get the array from the fits file. That's all I care about.\n",
    "fitsInfo = (fits.open(todaysDataPath, \"append\"));\n",
    "fitsInfo.info();\n",
    "rawData = fitsInfo[0].data;\n",
    "# the .shape member of an array gives an array of the dimesnions of the array.\n",
    "numberOfPictures = rawData.shape[0];\n",
    "numberOfExperiments = int(numberOfPictures / picturesPerExperiment)\n",
    "horizontalImageDimension = rawData.shape[1];\n",
    "verticalImageDimension = rawData.shape[2];"
   ]
  },
  {
   "cell_type": "markdown",
   "metadata": {},
   "source": [
    "### Initial Data Analysis"
   ]
  },
  {
   "cell_type": "code",
   "execution_count": 1289,
   "metadata": {
    "collapsed": false
   },
   "outputs": [],
   "source": [
    "peakData = [];\n",
    "backgroundData = [];\n",
    "firstExperimentData = [];\n",
    "for imageInc in range(0, numberOfPictures - 1):\n",
    "    averageBackground = 1/4*(rawData[imageInc][0][0] + rawData[imageInc][horizontalImageDimension-1][verticalImageDimension-1] \n",
    "                             + rawData[imageInc][0][verticalImageDimension-1] + rawData[imageInc][horizontalImageDimension-1][0])\n",
    "    peakData = numpy.append(peakData, rawData[imageInc][atomLocation[0]][atomLocation[1]] - averageBackground);\n",
    "    backgroundData = numpy.append(backgroundData, averageBackground);\n",
    "    if imageInc % 2 == 0:\n",
    "        firstExperimentData = numpy.append(firstExperimentData, rawData[imageInc][atomLocation[0]][atomLocation[1]]\n",
    "                                           - averageBackground);\n"
   ]
  },
  {
   "cell_type": "markdown",
   "metadata": {},
   "source": [
    "### Histogram"
   ]
  },
  {
   "cell_type": "code",
   "execution_count": 1290,
   "metadata": {
    "collapsed": false
   },
   "outputs": [
    {
     "data": {
      "image/png": "[encoded data removed]",
      "text/plain": [
       "<matplotlib.figure.Figure at 0x11ba7d95080>"
      ]
     },
     "metadata": {},
     "output_type": "display_data"
    }
   ],
   "source": [
    "matplotlib.pyplot.hist(firstExperimentData, 50);\n",
    "matplotlib.pyplot.title(\"First Picture of Experiment Pixel Count Histogram\");\n",
    "matplotlib.pyplot.ylabel(\"Occurance Count\");\n",
    "matplotlib.pyplot.xlabel(\"Pixel Counts\");"
   ]
  },
  {
   "cell_type": "markdown",
   "metadata": {},
   "source": [
    "### Calculate Atom Threshold"
   ]
  },
  {
   "cell_type": "code",
   "execution_count": 1291,
   "metadata": {
    "collapsed": false
   },
   "outputs": [
    {
     "name": "stdout",
     "output_type": "stream",
     "text": [
      "-36.0\n",
      "Threshold Found: 160.798325902\n",
      "Threshold Fidelity: 99.9872063073%\n",
      "Loading Efficiency: 84.0%\n"
     ]
    },
    {
     "data": {
      "image/png": "[encoded data removed]",
      "text/plain": [
       "<matplotlib.figure.Figure at 0x11ba9032588>"
      ]
     },
     "metadata": {},
     "output_type": "display_data"
    },
    {
     "data": {
      "image/png": "[encoded data removed]",
      "text/plain": [
       "<matplotlib.figure.Figure at 0x11ba9032390>"
      ]
     },
     "metadata": {},
     "output_type": "display_data"
    },
    {
     "data": {
      "image/png": "[encoded data removed]",
      "text/plain": [
       "<matplotlib.figure.Figure at 0x11ba9143518>"
      ]
     },
     "metadata": {},
     "output_type": "display_data"
    },
    {
     "data": {
      "image/png": "[encoded data removed]",
      "text/plain": [
       "<matplotlib.figure.Figure at 0x11ba7e23828>"
      ]
     },
     "metadata": {},
     "output_type": "display_data"
    }
   ],
   "source": [
    "#define the fitting function\n",
    "def doubleGaussian(data, A1, x1, sig1, A2, x2, sig2):\n",
    "    return (A1 * numpy.exp(-((data-x1)/(numpy.sqrt(2)*sig1))**2)) + A2*numpy.exp(-((data-x2)/(numpy.sqrt(2)*sig2))**2)\n",
    "# calculate the bin width... (unused?)\n",
    "binWidth = 5;\n",
    "binBorderLocation = min(peakData);\n",
    "print(binBorderLocation);\n",
    "binsBorders = numpy.array([]);\n",
    "# get bin borders\n",
    "while binBorderLocation < max(peakData):\n",
    "    binsBorders = numpy.append(binsBorders, binBorderLocation);\n",
    "    binBorderLocation = binBorderLocation + binWidth;\n",
    "#binsBorders = numpy.linspace(min(peakData),max(peakData),50);\n",
    "# trash gets set but is unused.\n",
    "binnedData, trash = numpy.histogram(peakData, binsBorders);\n",
    "binCenters = binsBorders[0:binsBorders.size-1];\n",
    "\n",
    "# get centered data points\n",
    "# for binInc in range(0, binsBorders.size - 1):\n",
    "#     binCenters = numpy.append(binCenters, (binsBorders[binInc] + binsBorders[binInc + 1])/2);\n",
    "# fit the histogram\n",
    "#                   A1     x1  s1  a2   x2            s2\n",
    "guess = numpy.array([100, 0, 30, 200, atomPeakGuess, 10]);\n",
    "\n",
    "fitVals, trash = scipy.optimize.curve_fit(doubleGaussian, binCenters, binnedData, guess);\n",
    "# make an image\n",
    "matplotlib.pyplot.figure(0);\n",
    "matplotlib.pyplot.imshow(rawData[100], interpolation='none', cmap = matplotlib.cm.get_cmap(\"bone\"));\n",
    "# make a histogram\n",
    "matplotlib.pyplot.figure(1);\n",
    "matplotlib.pyplot.hist(peakData, 50);\n",
    "matplotlib.pyplot.title(\"Peak Data of Experiment Pixel Count Histogram\");\n",
    "matplotlib.pyplot.ylabel(\"Occurance Count\");\n",
    "matplotlib.pyplot.xlabel(\"Pixel Counts\");\n",
    "# plot the fit on top of the histogram\n",
    "matplotlib.pyplot.figure(2);\n",
    "matplotlib.pyplot.plot(binCenters, binnedData, \"o\");\n",
    "fineXData = numpy.linspace(min(peakData),max(peakData),500);\n",
    "matplotlib.pyplot.plot(fineXData, doubleGaussian(fineXData,*fitVals))\n",
    "matplotlib.pyplot.figure(3);\n",
    "matplotlib.pyplot.plot(peakData, \".\");\n",
    "\n",
    "TCalc = (fitVals[4] - fitVals[1])/(numpy.abs(fitVals[5]) + numpy.abs(fitVals[2]));\n",
    "threshold = fitVals[1] + TCalc * fitVals[2];\n",
    "thresholdFidelity = 1/2 * (1 + scipy.special.erf(TCalc/numpy.sqrt(2)))\n",
    "print(\"Threshold Found: \" + str(threshold))\n",
    "print(\"Threshold Fidelity: \" + str(thresholdFidelity * 100) + \"%\")\n",
    "\n",
    "atomCount = 0;\n",
    "for experimentInc in range(0, firstExperimentData.size):\n",
    "    if firstExperimentData[experimentInc] > threshold:\n",
    "        atomCount += 1;\n",
    "print(\"Loading Efficiency: \" + str(atomCount / firstExperimentData.size * 100) + \"%\")"
   ]
  },
  {
   "cell_type": "markdown",
   "metadata": {},
   "source": [
    "### Coalate Data"
   ]
  },
  {
   "cell_type": "code",
   "execution_count": 1292,
   "metadata": {
    "collapsed": false
   },
   "outputs": [],
   "source": [
    "numberTransfered = 0;\n",
    "transferedArray = numpy.array([]);\n",
    "transferedArray.astype(int);\n",
    "# this doesn't take into account loss!\n",
    "for experimentInc in range(0, numberOfExperiments - 1):\n",
    "    if peakData[2 * experimentInc] > threshold and peakData[2 * experimentInc + 1] >= threshold:\n",
    "        numberTransfered = numberTransfered + 1;\n",
    "        #true\n",
    "        transferedArray = numpy.append(transferedArray, 1);\n",
    "    elif peakData[2 * experimentInc] > threshold and peakData[2 * experimentInc + 1] < threshold:\n",
    "        transferedArray = numpy.append(transferedArray, 0);\n",
    "    else:\n",
    "        #false\n",
    "        transferedArray = numpy.append(transferedArray, -1);\n",
    "fractionTransfered = numberTransfered / numberOfExperiments;"
   ]
  },
  {
   "cell_type": "code",
   "execution_count": 1293,
   "metadata": {
    "collapsed": false
   },
   "outputs": [],
   "source": [
    "# Get Data in final form for exporting\n",
    "averageFractionTransfered = numpy.array([]);\n",
    "captureProbabilities = numpy.array([]);\n",
    "standardDeviation = numpy.array([]);\n",
    "ctsList =numpy.array([]);\n",
    "lctsList = numpy.array([]);\n",
    "stdevC = numpy.array([]);\n",
    "for variationInc in range(0, int(transferedArray.size / (accumulations - 1)) ):\n",
    "    cts = numpy.array([]);\n",
    "    for accumulationInc in range(0, accumulations - 1):\n",
    "        if transferedArray[variationInc * accumulations + accumulationInc] != -1:\n",
    "            cts = numpy.append(cts, transferedArray[variationInc * accumulations + accumulationInc]);\n",
    "    if cts.size == 0:\n",
    "        #print(cts.size)\n",
    "        standardDeviation = numpy.append(standardDeviation, 0);\n",
    "        captureProbabilities = numpy.append(captureProbabilities, 0);\n",
    "        averageFractionTransfered = numpy.append(averageFractionTransfered, 0);\n",
    "        ctsList = numpy.append(ctsList, 0);\n",
    "        lctsList = numpy.append(lctsList, 0);\n",
    "        stdevC = numpy.append(stdevC, 0);\n",
    "    else:\n",
    "        #print(cts.size)\n",
    "        standardDeviation = numpy.append(standardDeviation, numpy.std(cts)/numpy.sqrt(cts.size));\n",
    "        captureProbabilities = numpy.append(captureProbabilities, cts.size / accumulations);\n",
    "        averageFractionTransfered = numpy.append(averageFractionTransfered, numpy.average(cts));\n",
    "        ctsList = numpy.append(ctsList, numpy.average(cts.size));\n",
    "        lctsList = numpy.append(lctsList, numpy.sqrt(cts.size));\n",
    "        stdevC = numpy.append(stdevC, numpy.std(cts));\n",
    "dataSpectra = numpy.column_stack((numpy.array(key), averageFractionTransfered))\n",
    "survivalData = numpy.column_stack((dataSpectra, standardDeviation));\n",
    "fullCaptureProbabilitiyData = numpy.column_stack((numpy.array(key), captureProbabilities));\n",
    "collatedData = [accumulations, peakData, key, survivalData, captureProbabilities, rawData, fullCaptureProbabilitiyData];"
   ]
  },
  {
   "cell_type": "markdown",
   "metadata": {},
   "source": [
    "### Initial Plots"
   ]
  },
  {
   "cell_type": "code",
   "execution_count": 1294,
   "metadata": {
    "collapsed": false
   },
   "outputs": [
    {
     "data": {
      "image/png": "[encoded data removed]",
      "text/plain": [
       "<matplotlib.figure.Figure at 0x11ba9452d68>"
      ]
     },
     "metadata": {},
     "output_type": "display_data"
    }
   ],
   "source": [
    "matplotlib.pylab.errorbar(numpy.array(key), averageFractionTransfered, \n",
    "                          yerr=standardDeviation, linestyle = \"none\");"
   ]
  },
  {
   "cell_type": "code",
   "execution_count": 1295,
   "metadata": {
    "collapsed": false
   },
   "outputs": [
    {
     "data": {
      "text/plain": [
       "array([ 0.968])"
      ]
     },
     "execution_count": 1295,
     "metadata": {},
     "output_type": "execute_result"
    }
   ],
   "source": [
    "averageFractionTransfered"
   ]
  },
  {
   "cell_type": "markdown",
   "metadata": {},
   "source": [
    "### Export Data And Close"
   ]
  },
  {
   "cell_type": "code",
   "execution_count": 1296,
   "metadata": {
    "collapsed": false
   },
   "outputs": [
    {
     "name": "stdout",
     "output_type": "stream",
     "text": [
      "\\\\andor\\share\\Data and documents\\Data repository\\160519\\ProbeBeamHeating1Point_run35_well4.tsv\n"
     ]
    }
   ],
   "source": [
    "fitsInfo.close()\n",
    "#collatedData = [accumulations, peakData, key, survivalData, captureProbabilities, rawData, captureProbabilities];\n",
    "outputName = dataRepositoryPath + date + \"\\\\\" + fileName + \"_run\" + str(runNumber) + \"_well\" + str(wellIndicator)+ \".tsv\";\n",
    "print(outputName)\n",
    "with open(outputName, \"w\") as record_file:\n",
    "    # accumulations is special since it's an integer.\n",
    "    record_file.write(str(collatedData[0]) + \"\\n\");\n",
    "    ### Version for mathematica compatibility\n",
    "    # Peak Data\n",
    "    for peakInc in range(0, peakData.size):\n",
    "        record_file.write(str(peakData[peakInc]) + \"\\t\");\n",
    "    record_file.write(\"\\n\");\n",
    "    # key\n",
    "    for keyInc in range(0, key.size-1):\n",
    "        record_file.write(str(key[keyInc]) + \"\\t\");\n",
    "    record_file.write(str(key[key.size-1]));\n",
    "    record_file.write(\"\\n\");\n",
    "    # survival data\n",
    "    survivalDimensions = survivalData.shape;\n",
    "    for survivalPointsInc in range(0, survivalDimensions[0]-1):\n",
    "        record_file.write(str(\"{{\"));\n",
    "        record_file.write(str(survivalData[survivalPointsInc][0]) + \", \");\n",
    "        record_file.write(str(survivalData[survivalPointsInc][1]) + \"}, \");\n",
    "        record_file.write(\"ErrorBar[\" + str(survivalData[survivalPointsInc][2]) + \"]\");\n",
    "        record_file.write(str(\"}\\t\"));\n",
    "    record_file.write(str(\"{{\"));\n",
    "    record_file.write(str(survivalData[survivalDimensions[0]-1][0]) + \", \");\n",
    "    record_file.write(str(survivalData[survivalDimensions[0]-1][1]) + \"}, \");\n",
    "    record_file.write(\"ErrorBar[\" + str(survivalData[survivalDimensions[0]-1][2]) + \"]\");\n",
    "    record_file.write(str(\"}\"));\n",
    "    record_file.write(\"\\n\")\n",
    "        # capture probabilities data\n",
    "    for captureInc in range(0, captureProbabilities.size):\n",
    "        record_file.write(str(captureProbabilities[captureInc]) + \" \");\n",
    "    record_file.write(\"\\n\");\n",
    "    # raw data\n",
    "    rawDataDimensions = rawData.shape;\n",
    "    for pictureInc in range(0, rawDataDimensions[0]):\n",
    "        record_file.write(\"{\");\n",
    "        for rowInc in range(0, rawDataDimensions[1]):\n",
    "            record_file.write(\"{\");\n",
    "            for columnInc in range(0, rawDataDimensions[2]):\n",
    "                record_file.write(str(rawData[pictureInc][rowInc][columnInc]) + \" \")\n",
    "            record_file.write(\"} \")\n",
    "        record_file.write(\"}\");\n",
    "    record_file.write(\"\\n\");\n",
    "    # full Capture Probabilitiy Data (capture probabilities with x values?)\n",
    "    fullCaptureDataDimensions = fullCaptureProbabilitiyData.shape;\n",
    "    for variationInc in range(0, fullCaptureDataDimensions[0]):\n",
    "        record_file.write(\"{\" + str(fullCaptureProbabilitiyData[variationInc][0]) + \", \"\n",
    "                          + str(fullCaptureProbabilitiyData[variationInc][1]) + \"} \");\n",
    "    \n",
    "    # sensible version\n",
    "    # for dataInc in range(1,len(collatedData)):\n",
    "        \n",
    "        #record_file.write(str(collatedData[dataInc][0:len(collatedData[dataInc])]) + \"\\n\");\n",
    "        "
   ]
  }
 ],
 "metadata": {
  "kernelspec": {
   "display_name": "Python 3",
   "language": "python",
   "name": "python3"
  },
  "language_info": {
   "codemirror_mode": {
    "name": "ipython",
    "version": 3
   },
   "file_extension": ".py",
   "mimetype": "text/x-python",
   "name": "python",
   "nbconvert_exporter": "python",
   "pygments_lexer": "ipython3",
   "version": "3.5.1"
  }
 },
 "nbformat": 4,
 "nbformat_minor": 0
}
