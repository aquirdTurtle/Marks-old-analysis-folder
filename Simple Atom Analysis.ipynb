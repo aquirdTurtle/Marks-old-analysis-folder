{
 "cells": [
  {
   "cell_type": "markdown",
   "metadata": {},
   "source": [
    "# Simple Atom Analysis Notebook"
   ]
  },
  {
   "cell_type": "markdown",
   "metadata": {},
   "source": [
    "#### This notebook is designed to replicate the Mathematica \"Single_Atom\" Notebook. This notebook makes heavy use of the \"dataAnalysisFunctions\" module that I created."
   ]
  },
  {
   "cell_type": "markdown",
   "metadata": {},
   "source": [
    "### Imports"
   ]
  },
  {
   "cell_type": "code",
   "execution_count": 134,
   "metadata": {
    "code_folding": [],
    "collapsed": false
   },
   "outputs": [],
   "source": [
    "### Uninteresting stuff.\n",
    "# show plots in this notebook. \"magic\" command.\n",
    "%matplotlib inline\n",
    "# Data is saved as \"data_#.fits\" files\n",
    "from astropy.io import fits\n",
    "import numpy\n",
    "numpy.set_printoptions(threshold=numpy.nan)\n",
    "from matplotlib.pyplot import figure, hist, plot, title, xlabel, ylabel, subplots, errorbar, gcf\n",
    "from matplotlib.cm import get_cmap\n",
    "from dataAnalysisFunctions import (normalizeData, binData, guessGaussianPeaks, doubleGaussian, fitDoubleGaussian, \n",
    "                                   calculateAtomThreshold, getAnalyzedSurvivalData);"
   ]
  },
  {
   "cell_type": "markdown",
   "metadata": {},
   "source": [
    "### Initialize Constants"
   ]
  },
  {
   "cell_type": "code",
   "execution_count": 135,
   "metadata": {
    "code_folding": [],
    "collapsed": true,
    "hide_input": false
   },
   "outputs": [],
   "source": [
    "#\n",
    "date = \"160530\";\n",
    "fileName = \"RamseyTimeTraceTop\";\n",
    "runNumber = 18;\n",
    "wellIndicator = 4;\n",
    "accumulations = 150;\n",
    "### Zero-indexed!!!\n",
    "\n",
    "# Vertical\n",
    "# atomLocation = [1,wellIndicator-1];\n",
    "# Horizontal\n",
    "atomLocation = [wellIndicator-1, 1];\n",
    "\n",
    "picturesPerExperiment = 2;\n",
    "#atomPeakGuess = 400;"
   ]
  },
  {
   "cell_type": "code",
   "execution_count": 136,
   "metadata": {
    "code_folding": [],
    "collapsed": false,
    "run_control": {
     "breakpoint": false
    }
   },
   "outputs": [
    {
     "name": "stdout",
     "output_type": "stream",
     "text": [
      "\\\\andor\\share\\Data and documents\\Data repository\\160530\\data_18.fits\n"
     ]
    }
   ],
   "source": [
    "#\n",
    "dataRepositoryPath = \"\\\\\\\\andor\\\\share\\\\Data and documents\\\\Data repository\\\\\";\n",
    "todaysDataPath = dataRepositoryPath + date + \"\\\\data_\" + str(runNumber) + \".fits\";\n",
    "print(todaysDataPath)\n",
    "keyPath = dataRepositoryPath + date + \"\\\\key_\" + str(runNumber) + \".txt\";\n",
    "#todaysDataPath = dataRepositoryPath + date + \"\\\\data.fits\";\n",
    "#keyPath = dataRepositoryPath + \"Key_file\\\\key.txt\""
   ]
  },
  {
   "cell_type": "markdown",
   "metadata": {},
   "source": [
    "### Load Key File"
   ]
  },
  {
   "cell_type": "code",
   "execution_count": 137,
   "metadata": {
    "code_folding": [
     0
    ],
    "collapsed": false
   },
   "outputs": [],
   "source": [
    "#\n",
    "key = numpy.array([]);\n",
    "with open(keyPath) as keyFile:\n",
    "    for line in keyFile:\n",
    "        key = numpy.append(key, float(line.strip('\\n')))"
   ]
  },
  {
   "cell_type": "markdown",
   "metadata": {},
   "source": [
    "### Load Fits File & Get Dimensions"
   ]
  },
  {
   "cell_type": "code",
   "execution_count": 138,
   "metadata": {
    "code_folding": [
     0
    ],
    "collapsed": false
   },
   "outputs": [
    {
     "name": "stdout",
     "output_type": "stream",
     "text": [
      "\\\\andor\\share\\Data and documents\\Data repository\\160530\\data_18.fits\n",
      "Filename: \\\\andor\\share\\Data and documents\\Data repository\\160530\\data_18.fits\n",
      "No.    Name         Type      Cards   Dimensions   Format\n",
      "0    PRIMARY     PrimaryHDU       9   (3, 9, 6000)   int32   \n"
     ]
    }
   ],
   "source": [
    "# Get the array from the fits file. That's all I care about.\n",
    "print(todaysDataPath)\n",
    "fitsInfo = (fits.open(todaysDataPath, \"append\"));\n",
    "fitsInfo.info();\n",
    "rawData = fitsInfo[0].data;\n",
    "# the .shape member of an array gives an array of the dimesnions of the array.\n",
    "numberOfPictures = rawData.shape[0];\n",
    "numberOfExperiments = int(numberOfPictures / picturesPerExperiment)\n",
    "horizontalImageDimension = rawData.shape[1];\n",
    "verticalImageDimension = rawData.shape[2];"
   ]
  },
  {
   "cell_type": "markdown",
   "metadata": {},
   "source": [
    "### Initial Data Analysis"
   ]
  },
  {
   "cell_type": "code",
   "execution_count": 139,
   "metadata": {
    "code_folding": [],
    "collapsed": false
   },
   "outputs": [
    {
     "name": "stdout",
     "output_type": "stream",
     "text": [
      "(6000, 9, 3)\n",
      "[3, 1]\n"
     ]
    }
   ],
   "source": [
    "#\n",
    "print(rawData.shape)\n",
    "peakData = [];\n",
    "print(atomLocation)\n",
    "firstExperimentData = [];\n",
    "# my function here.\n",
    "peakData, firstExperimentData = normalizeData(picturesPerExperiment, rawData, atomLocation);"
   ]
  },
  {
   "cell_type": "markdown",
   "metadata": {},
   "source": [
    "### Get Binned Data"
   ]
  },
  {
   "cell_type": "code",
   "execution_count": 140,
   "metadata": {
    "code_folding": [],
    "collapsed": false
   },
   "outputs": [
    {
     "name": "stdout",
     "output_type": "stream",
     "text": [
      "607.25\n"
     ]
    }
   ],
   "source": [
    "binCenters, binnedData = binData(5, peakData);\n",
    "print(max(peakData))"
   ]
  },
  {
   "cell_type": "markdown",
   "metadata": {},
   "source": [
    "###  Make educated Guesses for Peaks"
   ]
  },
  {
   "cell_type": "code",
   "execution_count": 141,
   "metadata": {
    "code_folding": [],
    "collapsed": false
   },
   "outputs": [],
   "source": [
    "guess1, guess2 = guessGaussianPeaks(peakData, binCenters, binnedData);\n"
   ]
  },
  {
   "cell_type": "markdown",
   "metadata": {},
   "source": [
    "### Calculate Atom Threshold"
   ]
  },
  {
   "cell_type": "code",
   "execution_count": 142,
   "metadata": {
    "collapsed": false
   },
   "outputs": [],
   "source": [
    "### Code to calculate threshold\n",
    "#define the fitting function\n",
    "guess = numpy.array([100, guess1, 30, 200, guess2, 10]);\n",
    "gaussianFitVals = fitDoubleGaussian(binCenters, binnedData, guess);\n",
    "threshold, thresholdFidelity = calculateAtomThreshold(gaussianFitVals);"
   ]
  },
  {
   "cell_type": "markdown",
   "metadata": {},
   "source": [
    "### Coalate Data"
   ]
  },
  {
   "cell_type": "code",
   "execution_count": 143,
   "metadata": {
    "code_folding": [],
    "collapsed": false
   },
   "outputs": [],
   "source": [
    "# Get Data in final form for exporting\n",
    "survivalData, fullCaptureData, captureArray = getAnalyzedSurvivalData(peakData, threshold, key, accumulations, \n",
    "                                                              numberOfExperiments);\n",
    "collatedData = [accumulations, peakData, key, survivalData, captureArray, rawData, fullCaptureData];\n"
   ]
  },
  {
   "cell_type": "markdown",
   "metadata": {},
   "source": [
    "### Plot Stuff"
   ]
  },
  {
   "cell_type": "code",
   "execution_count": 1,
   "metadata": {
    "collapsed": false
   },
   "outputs": [
    {
     "ename": "NameError",
     "evalue": "name 'subplots' is not defined",
     "output_type": "error",
     "traceback": [
      "\u001b[1;31m---------------------------------------------------------------------------\u001b[0m",
      "\u001b[1;31mNameError\u001b[0m                                 Traceback (most recent call last)",
      "\u001b[1;32m<ipython-input-1-768a79ea1771>\u001b[0m in \u001b[0;36m<module>\u001b[1;34m()\u001b[0m\n\u001b[1;32m----> 1\u001b[1;33m \u001b[0mmyFigure\u001b[0m\u001b[1;33m,\u001b[0m \u001b[1;33m(\u001b[0m\u001b[1;33m(\u001b[0m\u001b[0mplot11\u001b[0m\u001b[1;33m,\u001b[0m \u001b[0mplot12\u001b[0m\u001b[1;33m,\u001b[0m \u001b[0mplot13\u001b[0m\u001b[1;33m)\u001b[0m\u001b[1;33m,\u001b[0m \u001b[1;33m(\u001b[0m\u001b[0mplot21\u001b[0m\u001b[1;33m,\u001b[0m \u001b[0mplot22\u001b[0m\u001b[1;33m,\u001b[0m \u001b[0mplot23\u001b[0m\u001b[1;33m)\u001b[0m\u001b[1;33m)\u001b[0m \u001b[1;33m=\u001b[0m \u001b[0msubplots\u001b[0m\u001b[1;33m(\u001b[0m\u001b[1;36m2\u001b[0m\u001b[1;33m,\u001b[0m \u001b[1;36m3\u001b[0m\u001b[1;33m,\u001b[0m \u001b[0mfigsize\u001b[0m \u001b[1;33m=\u001b[0m \u001b[1;33m(\u001b[0m\u001b[1;36m25\u001b[0m\u001b[1;33m,\u001b[0m\u001b[1;36m12\u001b[0m\u001b[1;33m)\u001b[0m\u001b[1;33m)\u001b[0m\u001b[1;33m\u001b[0m\u001b[0m\n\u001b[0m\u001b[0;32m      2\u001b[0m \u001b[0mmyFigure\u001b[0m\u001b[1;33m.\u001b[0m\u001b[0msuptitle\u001b[0m\u001b[1;33m(\u001b[0m\u001b[1;34m\"Data for location {\"\u001b[0m \u001b[1;33m+\u001b[0m \u001b[0mstr\u001b[0m\u001b[1;33m(\u001b[0m\u001b[0matomLocation\u001b[0m\u001b[1;33m[\u001b[0m\u001b[1;36m0\u001b[0m\u001b[1;33m]\u001b[0m \u001b[1;33m+\u001b[0m \u001b[1;36m1\u001b[0m\u001b[1;33m)\u001b[0m \u001b[1;33m+\u001b[0m \u001b[1;34m\",\"\u001b[0m \u001b[1;33m+\u001b[0m \u001b[0mstr\u001b[0m\u001b[1;33m(\u001b[0m\u001b[0matomLocation\u001b[0m\u001b[1;33m[\u001b[0m\u001b[1;36m1\u001b[0m\u001b[1;33m]\u001b[0m \u001b[1;33m+\u001b[0m \u001b[1;36m1\u001b[0m\u001b[1;33m)\u001b[0m \u001b[1;33m+\u001b[0m \u001b[1;34m\"}\"\u001b[0m\u001b[1;33m,\u001b[0m \u001b[0mfontsize\u001b[0m \u001b[1;33m=\u001b[0m \u001b[1;36m24\u001b[0m\u001b[1;33m)\u001b[0m\u001b[1;33m;\u001b[0m\u001b[1;33m\u001b[0m\u001b[0m\n\u001b[0;32m      3\u001b[0m \u001b[0mfigObject\u001b[0m \u001b[1;33m=\u001b[0m \u001b[0mgcf\u001b[0m\u001b[1;33m(\u001b[0m\u001b[1;33m)\u001b[0m\u001b[1;33m\u001b[0m\u001b[0m\n\u001b[0;32m      4\u001b[0m \u001b[0mfigObject\u001b[0m\u001b[1;33m.\u001b[0m\u001b[0mcanvas\u001b[0m\u001b[1;33m.\u001b[0m\u001b[0mset_window_title\u001b[0m\u001b[1;33m(\u001b[0m\u001b[1;34m\"{\"\u001b[0m \u001b[1;33m+\u001b[0m \u001b[0mstr\u001b[0m\u001b[1;33m(\u001b[0m\u001b[0matomLocation\u001b[0m\u001b[1;33m[\u001b[0m\u001b[1;36m0\u001b[0m\u001b[1;33m]\u001b[0m \u001b[1;33m+\u001b[0m \u001b[1;36m1\u001b[0m\u001b[1;33m)\u001b[0m \u001b[1;33m+\u001b[0m \u001b[1;34m\",\"\u001b[0m \u001b[1;33m+\u001b[0m \u001b[0mstr\u001b[0m\u001b[1;33m(\u001b[0m\u001b[0matomLocation\u001b[0m\u001b[1;33m[\u001b[0m\u001b[1;36m1\u001b[0m\u001b[1;33m]\u001b[0m \u001b[1;33m+\u001b[0m \u001b[1;36m1\u001b[0m\u001b[1;33m)\u001b[0m \u001b[1;33m+\u001b[0m \u001b[1;34m\"}\"\u001b[0m\u001b[1;33m)\u001b[0m\u001b[1;33m\u001b[0m\u001b[0m\n\u001b[0;32m      5\u001b[0m \u001b[1;31m# make an image\u001b[0m\u001b[1;33m\u001b[0m\u001b[1;33m\u001b[0m\u001b[0m\n",
      "\u001b[1;31mNameError\u001b[0m: name 'subplots' is not defined"
     ]
    }
   ],
   "source": [
    "myFigure, ((plot11, plot12, plot13), (plot21, plot22, plot23)) = subplots(2, 3, figsize = (25,12))\n",
    "myFigure.suptitle(\"Data for location {\" + str(atomLocation[0] + 1) + \",\" + str(atomLocation[1] + 1) + \"}\", fontsize = 24);        \n",
    "figObject = gcf()\n",
    "figObject.canvas.set_window_title(\"{\" + str(atomLocation[0] + 1) + \",\" + str(atomLocation[1] + 1) + \"}\")\n",
    "# make an image\n",
    "plot11.imshow(rawData[10], interpolation='none', cmap = get_cmap(\"bone\"));\n",
    "plot11.set_title(\"Example Raw Image\")\n",
    "# First counts histogram\n",
    "plot12.hist(firstExperimentData, 50);\n",
    "plot12.set_title(\"First Picture of Experiment Pixel Count Histogram\");\n",
    "plot12.set_ylabel(\"Occurance Count\");\n",
    "plot12.set_xlabel(\"Pixel Counts\");\n",
    "# plot loading probabilities\n",
    "plot13.plot(fullCaptureData[:,0], fullCaptureData[:,1], linestyle = \"none\");\n",
    "plot13.set_title(\"Average Loading Efficiency: \" + str(atomCount / firstExperimentData.size * 100) + \"%\");\n",
    "plot13.set_ylabel(\"Occurance Count\");\n",
    "plot13.set_xlabel(\"Pixel Counts\");\n",
    "# plot the fit on top of the histogram\n",
    "plot21.plot(binCenters, binnedData, \"o\", markersize = 3);\n",
    "fineXData = numpy.linspace(min(peakData),max(peakData),500);\n",
    "plot21.plot(fineXData, doubleGaussian(fineXData,*gaussianFitVals))\n",
    "plot21.set_title(\"Gaussian Fits over Histogram\");\n",
    "plot21.set_ylabel(\"Occurance Count\");\n",
    "plot21.set_xlabel(\"Pixel Counts\");\n",
    "plot22.plot(peakData, \".\", markersize = 1);\n",
    "plot22.set_title(\"Pixel Count Data Over Time\");\n",
    "plot22.set_ylabel(\"Count on Pixel\");\n",
    "plot22.set_xlabel(\"Picture Number\");\n",
    "plot23.errorbar(survivalData[:,0], survivalData[:,1], \n",
    "                          yerr=survivalData[:,2], linestyle = \"none\");\n",
    "plot23.set_title(\"Survival Data for Each Variation\")\n",
    "plot23.set_ylabel(\"% Survived\")\n",
    "plot23.set_xlabel(\"Variation Parameter Value\")\n",
    "plot23.set_ylim([-0.05, 1.05])"
   ]
  },
  {
   "cell_type": "markdown",
   "metadata": {},
   "source": [
    "### Export Data And Close"
   ]
  },
  {
   "cell_type": "code",
   "execution_count": 145,
   "metadata": {
    "code_folding": [],
    "collapsed": false,
    "scrolled": true
   },
   "outputs": [
    {
     "name": "stdout",
     "output_type": "stream",
     "text": [
      "\\\\andor\\share\\Data and documents\\Data repository\\160530\\RamseyTimeTraceTop_run18_well4.tsv\n"
     ]
    }
   ],
   "source": [
    "# \n",
    "fitsInfo.close()\n",
    "#collatedData = [accumulations, peakData, key, survivalData, captureProbabilities, rawData, captureProbabilities];\n",
    "outputName = dataRepositoryPath + date + \"\\\\\" + fileName + \"_run\" + str(runNumber) + \"_well\" + str(wellIndicator)+ \".tsv\";\n",
    "print(outputName)\n",
    "with open(outputName, \"w\") as record_file:\n",
    "    # accumulations is special since it's an integer.\n",
    "    record_file.write(str(collatedData[0]) + \"\\n\");\n",
    "    ### Version for mathematica compatibility\n",
    "    # Peak Data\n",
    "    for peakInc in range(0, peakData.size):\n",
    "        record_file.write(str(peakData[peakInc]) + \"\\t\");\n",
    "    record_file.write(\"\\n\");\n",
    "    # key\n",
    "    for keyInc in range(0, key.size-1):\n",
    "        record_file.write(str(key[keyInc]) + \"\\t\");\n",
    "    record_file.write(str(key[key.size-1]));\n",
    "    record_file.write(\"\\n\");\n",
    "    # survival data\n",
    "    survivalDimensions = survivalData.shape;\n",
    "    for survivalPointsInc in range(0, survivalDimensions[0]-1):\n",
    "        record_file.write(str(\"{{\"));\n",
    "        record_file.write(str(survivalData[survivalPointsInc][0]) + \", \");\n",
    "        record_file.write(str(survivalData[survivalPointsInc][1]) + \"}, \");\n",
    "        record_file.write(\"ErrorBar[\" + str(survivalData[survivalPointsInc][2]) + \"]\");\n",
    "        record_file.write(str(\"}\\t\"));\n",
    "    record_file.write(str(\"{{\"));\n",
    "    record_file.write(str(survivalData[survivalDimensions[0]-1][0]) + \", \");\n",
    "    record_file.write(str(survivalData[survivalDimensions[0]-1][1]) + \"}, \");\n",
    "    record_file.write(\"ErrorBar[\" + str(survivalData[survivalDimensions[0]-1][2]) + \"]\");\n",
    "    record_file.write(str(\"}\"));\n",
    "    record_file.write(\"\\n\")\n",
    "        # capture probabilities data\n",
    "    for captureInc in range(0, captureArray.size):\n",
    "        record_file.write(str(captureArray[captureInc]) + \" \");\n",
    "    record_file.write(\"\\n\");\n",
    "    # raw data\n",
    "    rawDataDimensions = rawData.shape;\n",
    "    for pictureInc in range(0, rawDataDimensions[0]):\n",
    "        record_file.write(\"{\");\n",
    "        for rowInc in range(0, rawDataDimensions[1]):\n",
    "            record_file.write(\"{\");\n",
    "            for columnInc in range(0, rawDataDimensions[2]):\n",
    "                record_file.write(str(rawData[pictureInc][rowInc][columnInc]) + \" \")\n",
    "            record_file.write(\"} \")\n",
    "        record_file.write(\"}\");\n",
    "    record_file.write(\"\\n\");\n",
    "    # full Capture Probabilitiy Data (capture probabilities with x values?)\n",
    "    fullCaptureDataDimensions = fullCaptureData.shape;\n",
    "    for variationInc in range(0, fullCaptureDataDimensions[0]):\n",
    "        record_file.write(\"{\" + str(fullCaptureData[variationInc][0]) + \", \"\n",
    "                          + str(fullCaptureData[variationInc][1]) + \"} \");\n",
    "    \n",
    "    # sensible version\n",
    "    # for dataInc in range(1,len(collatedData)):\n",
    "        \n",
    "        #record_file.write(str(collatedData[dataInc][0:len(collatedData[dataInc])]) + \"\\n\");\n",
    "        "
   ]
  }
 ],
 "metadata": {
  "hide_input": false,
  "kernelspec": {
   "display_name": "Python 3",
   "language": "python",
   "name": "python3"
  },
  "language_info": {
   "codemirror_mode": {
    "name": "ipython",
    "version": 3
   },
   "file_extension": ".py",
   "mimetype": "text/x-python",
   "name": "python",
   "nbconvert_exporter": "python",
   "pygments_lexer": "ipython3",
   "version": "3.5.1"
  }
 },
 "nbformat": 4,
 "nbformat_minor": 0
}
