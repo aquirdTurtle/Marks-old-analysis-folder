{
 "cells": [
  {
   "cell_type": "markdown",
   "metadata": {},
   "source": [
    "# Simple Atom Analysis Notebook"
   ]
  },
  {
   "cell_type": "markdown",
   "metadata": {},
   "source": [
    "#### This notebook is designed to replicate the Mathematica \"Single_Atom\" Notebook. This notebook makes heavy use of the \"dataAnalysisFunctions\" module that I created."
   ]
  },
  {
   "cell_type": "markdown",
   "metadata": {},
   "source": [
    "### Imports"
   ]
  },
  {
   "cell_type": "code",
   "execution_count": 673,
   "metadata": {
    "code_folding": [],
    "collapsed": false
   },
   "outputs": [],
   "source": [
    "### Uninteresting stuff.\n",
    "# show plots in this notebook. \"magic\" command.\n",
    "%matplotlib inline\n",
    "# Data is saved as \"data_#.fits\" files\n",
    "from astropy.io import fits\n",
    "import numpy\n",
    "numpy.set_printoptions(threshold=numpy.nan)\n",
    "from matplotlib.pyplot import figure, hist, plot, title, xlabel, ylabel, subplots, errorbar\n",
    "from matplotlib.cm import get_cmap\n",
    "from dataAnalysisFunctions import (normalizeData, binData, guessGaussianPeaks, doubleGaussian, fitDoubleGaussian, \n",
    "                                   calculateAtomThreshold, getAnalyzedSurvivalData);"
   ]
  },
  {
   "cell_type": "markdown",
   "metadata": {},
   "source": [
    "### Initialize Constants"
   ]
  },
  {
   "cell_type": "code",
   "execution_count": 674,
   "metadata": {
    "code_folding": [],
    "collapsed": true,
    "hide_input": false
   },
   "outputs": [],
   "source": [
    "#\n",
    "date = \"160525\";\n",
    "fileName = \"CarrierCalibration\";\n",
    "runNumber = 1;\n",
    "wellIndicator = 6;\n",
    "accumulations = 150;\n",
    "### Zero-indexed!!!\n",
    "\n",
    "# Vertical\n",
    "atomLocation = [1,wellIndicator-1];\n",
    "# Horizontal\n",
    "# atomLocation = [wellIndicator-1, 1];\n",
    "\n",
    "picturesPerExperiment = 2;\n",
    "#atomPeakGuess = 400;"
   ]
  },
  {
   "cell_type": "code",
   "execution_count": 675,
   "metadata": {
    "code_folding": [],
    "collapsed": false,
    "run_control": {
     "breakpoint": false
    }
   },
   "outputs": [
    {
     "name": "stdout",
     "output_type": "stream",
     "text": [
      "\\\\andor\\share\\Data and documents\\Data repository\\160525\\data_1.fits\n"
     ]
    }
   ],
   "source": [
    "#\n",
    "dataRepositoryPath = \"\\\\\\\\andor\\\\share\\\\Data and documents\\\\Data repository\\\\\";\n",
    "todaysDataPath = dataRepositoryPath + date + \"\\\\data_\" + str(runNumber) + \".fits\";\n",
    "print(todaysDataPath)\n",
    "keyPath = dataRepositoryPath + date + \"\\\\key_\" + str(runNumber) + \".txt\";\n",
    "#todaysDataPath = dataRepositoryPath + date + \"\\\\data.fits\";\n",
    "#keyPath = dataRepositoryPath + \"Key_file\\\\key.txt\""
   ]
  },
  {
   "cell_type": "markdown",
   "metadata": {},
   "source": [
    "### Load Key File"
   ]
  },
  {
   "cell_type": "code",
   "execution_count": 676,
   "metadata": {
    "code_folding": [
     0
    ],
    "collapsed": false
   },
   "outputs": [],
   "source": [
    "#\n",
    "key = numpy.array([]);\n",
    "with open(keyPath) as keyFile:\n",
    "    for line in keyFile:\n",
    "        key = numpy.append(key, float(line.strip('\\n')))"
   ]
  },
  {
   "cell_type": "markdown",
   "metadata": {},
   "source": [
    "### Load Fits File & Get Dimensions"
   ]
  },
  {
   "cell_type": "code",
   "execution_count": 677,
   "metadata": {
    "code_folding": [
     0
    ],
    "collapsed": false
   },
   "outputs": [
    {
     "name": "stdout",
     "output_type": "stream",
     "text": [
      "\\\\andor\\share\\Data and documents\\Data repository\\160525\\data_1.fits\n",
      "Filename: \\\\andor\\share\\Data and documents\\Data repository\\160525\\data_1.fits\n",
      "No.    Name         Type      Cards   Dimensions   Format\n",
      "0    PRIMARY     PrimaryHDU       9   (9, 4, 2400)   int32   \n"
     ]
    }
   ],
   "source": [
    "# Get the array from the fits file. That's all I care about.\n",
    "print(todaysDataPath)\n",
    "fitsInfo = (fits.open(todaysDataPath, \"append\"));\n",
    "fitsInfo.info();\n",
    "rawData = fitsInfo[0].data;\n",
    "# the .shape member of an array gives an array of the dimesnions of the array.\n",
    "numberOfPictures = rawData.shape[0];\n",
    "numberOfExperiments = int(numberOfPictures / picturesPerExperiment)\n",
    "horizontalImageDimension = rawData.shape[1];\n",
    "verticalImageDimension = rawData.shape[2];"
   ]
  },
  {
   "cell_type": "markdown",
   "metadata": {},
   "source": [
    "### Initial Data Analysis"
   ]
  },
  {
   "cell_type": "code",
   "execution_count": 678,
   "metadata": {
    "code_folding": [],
    "collapsed": false
   },
   "outputs": [
    {
     "name": "stdout",
     "output_type": "stream",
     "text": [
      "(2400, 4, 9)\n",
      "[1, 5]\n"
     ]
    }
   ],
   "source": [
    "#\n",
    "print(rawData.shape)\n",
    "peakData = [];\n",
    "print(atomLocation)\n",
    "firstExperimentData = [];\n",
    "# my function here.\n",
    "peakData, firstExperimentData = normalizeData(picturesPerExperiment, rawData, atomLocation);"
   ]
  },
  {
   "cell_type": "markdown",
   "metadata": {},
   "source": [
    "### Histogram"
   ]
  },
  {
   "cell_type": "code",
   "execution_count": 679,
   "metadata": {
    "code_folding": [],
    "collapsed": false
   },
   "outputs": [
    {
     "data": {
      "image/png": "[encoded data removed]",
      "text/plain": [
       "<matplotlib.figure.Figure at 0x2c4f58e7240>"
      ]
     },
     "metadata": {},
     "output_type": "display_data"
    }
   ],
   "source": [
    "# Plot histogram \n",
    "hist(firstExperimentData, 50);\n",
    "title(\"First Picture of Experiment Pixel Count Histogram\");\n",
    "ylabel(\"Occurance Count\");\n",
    "xlabel(\"Pixel Counts\");"
   ]
  },
  {
   "cell_type": "markdown",
   "metadata": {},
   "source": [
    "### Get Binned Data"
   ]
  },
  {
   "cell_type": "code",
   "execution_count": 680,
   "metadata": {
    "code_folding": [],
    "collapsed": false
   },
   "outputs": [
    {
     "name": "stdout",
     "output_type": "stream",
     "text": [
      "495.5\n"
     ]
    }
   ],
   "source": [
    "binCenters, binnedData = binData(5, peakData);\n",
    "print(max(peakData))"
   ]
  },
  {
   "cell_type": "markdown",
   "metadata": {},
   "source": [
    "###  Make educated Guesses for Peaks"
   ]
  },
  {
   "cell_type": "code",
   "execution_count": 681,
   "metadata": {
    "code_folding": [],
    "collapsed": false
   },
   "outputs": [],
   "source": [
    "guess1, guess2 = guessGaussianPeaks(peakData, binCenters, binnedData);\n"
   ]
  },
  {
   "cell_type": "markdown",
   "metadata": {},
   "source": [
    "### Calculate Atom Threshold"
   ]
  },
  {
   "cell_type": "code",
   "execution_count": 682,
   "metadata": {
    "collapsed": false
   },
   "outputs": [],
   "source": [
    "### Code to calculate threshold\n",
    "#define the fitting function\n",
    "guess = numpy.array([100, guess1, 30, 200, guess2, 10]);\n",
    "gaussianFitVals = fitDoubleGaussian(binCenters, binnedData, guess);\n",
    "threshold, thresholdFidelity = calculateAtomThreshold(gaussianFitVals);"
   ]
  },
  {
   "cell_type": "markdown",
   "metadata": {},
   "source": [
    "### Plot Stuff"
   ]
  },
  {
   "cell_type": "code",
   "execution_count": 683,
   "metadata": {
    "code_folding": [],
    "collapsed": false,
    "hide_input": false
   },
   "outputs": [
    {
     "name": "stdout",
     "output_type": "stream",
     "text": [
      "Threshold Found: 175.567391441\n",
      "Threshold Fidelity: 99.967131383%\n",
      "Loading Efficiency: 79.16666666666666%\n"
     ]
    },
    {
     "data": {
      "image/png": "[encoded data removed]",
      "text/plain": [
       "<matplotlib.figure.Figure at 0x2c4f62c3a20>"
      ]
     },
     "metadata": {},
     "output_type": "display_data"
    }
   ],
   "source": [
    "# make an image\n",
    "figure, ((plot11, plot12), (plot21, plot22)) = subplots(2, 2, figsize = (20,8))\n",
    "plot11.imshow(rawData[100], interpolation='none', cmap = get_cmap(\"bone\"));\n",
    "# make a histogram\n",
    "plot12.hist(peakData, 50);\n",
    "plot12.set_title(\"Peak Data of Experiment Pixel Count Histogram\");\n",
    "plot12.set_ylabel(\"Occurance Count\");\n",
    "plot12.set_xlabel(\"Pixel Counts\");\n",
    "# plot the fit on top of the histogram\n",
    "plot21.plot(binCenters, binnedData, \"o\", markersize = 3);\n",
    "fineXData = numpy.linspace(min(peakData),max(peakData),500);\n",
    "plot21.plot(fineXData, doubleGaussian(fineXData,*gaussianFitVals))\n",
    "plot22.plot(peakData, \".\", markersize = 1);\n",
    "\n",
    "print(\"Threshold Found: \" + str(threshold))\n",
    "print(\"Threshold Fidelity: \" + str(thresholdFidelity * 100) + \"%\")\n",
    "\n",
    "atomCount = 0;\n",
    "for experimentInc in range(0, firstExperimentData.size):\n",
    "    if firstExperimentData[experimentInc] > threshold:\n",
    "        atomCount += 1;\n",
    "print(\"Loading Efficiency: \" + str(atomCount / firstExperimentData.size * 100) + \"%\")"
   ]
  },
  {
   "cell_type": "markdown",
   "metadata": {},
   "source": [
    "### Coalate Data"
   ]
  },
  {
   "cell_type": "code",
   "execution_count": 684,
   "metadata": {
    "collapsed": false
   },
   "outputs": [
    {
     "name": "stdout",
     "output_type": "stream",
     "text": [
      "8\n"
     ]
    }
   ],
   "source": [
    "print(key.size)"
   ]
  },
  {
   "cell_type": "code",
   "execution_count": 685,
   "metadata": {
    "code_folding": [],
    "collapsed": false
   },
   "outputs": [],
   "source": [
    "# Get Data in final form for exporting\n",
    "survivalData, fullCaptureData, captureArray = getAnalyzedSurvivalData(peakData, threshold, key, accumulations, \n",
    "                                                              numberOfExperiments);\n",
    "collatedData = [accumulations, peakData, key, survivalData, captureArray, rawData, fullCaptureData];\n"
   ]
  },
  {
   "cell_type": "markdown",
   "metadata": {},
   "source": [
    "### Survival Data"
   ]
  },
  {
   "cell_type": "code",
   "execution_count": 686,
   "metadata": {
    "code_folding": [],
    "collapsed": false,
    "hide_input": false
   },
   "outputs": [
    {
     "data": {
      "image/png": "[encoded data removed]",
      "text/plain": [
       "<matplotlib.figure.Figure at 0x2c4f634c4a8>"
      ]
     },
     "metadata": {},
     "output_type": "display_data"
    }
   ],
   "source": [
    "# Plot survival data.\n",
    "errorbar(survivalData[:,0], survivalData[:,1], \n",
    "                          yerr=survivalData[:,2], linestyle = \"none\");"
   ]
  },
  {
   "cell_type": "markdown",
   "metadata": {},
   "source": [
    "### Export Data And Close"
   ]
  },
  {
   "cell_type": "code",
   "execution_count": 687,
   "metadata": {
    "code_folding": [],
    "collapsed": false
   },
   "outputs": [
    {
     "name": "stdout",
     "output_type": "stream",
     "text": [
      "\\\\andor\\share\\Data and documents\\Data repository\\160525\\CarrierCalibration_run1_well6.tsv\n"
     ]
    }
   ],
   "source": [
    "# \n",
    "fitsInfo.close()\n",
    "#collatedData = [accumulations, peakData, key, survivalData, captureProbabilities, rawData, captureProbabilities];\n",
    "outputName = dataRepositoryPath + date + \"\\\\\" + fileName + \"_run\" + str(runNumber) + \"_well\" + str(wellIndicator)+ \".tsv\";\n",
    "print(outputName)\n",
    "with open(outputName, \"w\") as record_file:\n",
    "    # accumulations is special since it's an integer.\n",
    "    record_file.write(str(collatedData[0]) + \"\\n\");\n",
    "    ### Version for mathematica compatibility\n",
    "    # Peak Data\n",
    "    for peakInc in range(0, peakData.size):\n",
    "        record_file.write(str(peakData[peakInc]) + \"\\t\");\n",
    "    record_file.write(\"\\n\");\n",
    "    # key\n",
    "    for keyInc in range(0, key.size-1):\n",
    "        record_file.write(str(key[keyInc]) + \"\\t\");\n",
    "    record_file.write(str(key[key.size-1]));\n",
    "    record_file.write(\"\\n\");\n",
    "    # survival data\n",
    "    survivalDimensions = survivalData.shape;\n",
    "    for survivalPointsInc in range(0, survivalDimensions[0]-1):\n",
    "        record_file.write(str(\"{{\"));\n",
    "        record_file.write(str(survivalData[survivalPointsInc][0]) + \", \");\n",
    "        record_file.write(str(survivalData[survivalPointsInc][1]) + \"}, \");\n",
    "        record_file.write(\"ErrorBar[\" + str(survivalData[survivalPointsInc][2]) + \"]\");\n",
    "        record_file.write(str(\"}\\t\"));\n",
    "    record_file.write(str(\"{{\"));\n",
    "    record_file.write(str(survivalData[survivalDimensions[0]-1][0]) + \", \");\n",
    "    record_file.write(str(survivalData[survivalDimensions[0]-1][1]) + \"}, \");\n",
    "    record_file.write(\"ErrorBar[\" + str(survivalData[survivalDimensions[0]-1][2]) + \"]\");\n",
    "    record_file.write(str(\"}\"));\n",
    "    record_file.write(\"\\n\")\n",
    "        # capture probabilities data\n",
    "    for captureInc in range(0, captureArray.size):\n",
    "        record_file.write(str(captureArray[captureInc]) + \" \");\n",
    "    record_file.write(\"\\n\");\n",
    "    # raw data\n",
    "    rawDataDimensions = rawData.shape;\n",
    "    for pictureInc in range(0, rawDataDimensions[0]):\n",
    "        record_file.write(\"{\");\n",
    "        for rowInc in range(0, rawDataDimensions[1]):\n",
    "            record_file.write(\"{\");\n",
    "            for columnInc in range(0, rawDataDimensions[2]):\n",
    "                record_file.write(str(rawData[pictureInc][rowInc][columnInc]) + \" \")\n",
    "            record_file.write(\"} \")\n",
    "        record_file.write(\"}\");\n",
    "    record_file.write(\"\\n\");\n",
    "    # full Capture Probabilitiy Data (capture probabilities with x values?)\n",
    "    fullCaptureDataDimensions = fullCaptureData.shape;\n",
    "    for variationInc in range(0, fullCaptureDataDimensions[0]):\n",
    "        record_file.write(\"{\" + str(fullCaptureData[variationInc][0]) + \", \"\n",
    "                          + str(fullCaptureData[variationInc][1]) + \"} \");\n",
    "    \n",
    "    # sensible version\n",
    "    # for dataInc in range(1,len(collatedData)):\n",
    "        \n",
    "        #record_file.write(str(collatedData[dataInc][0:len(collatedData[dataInc])]) + \"\\n\");\n",
    "        "
   ]
  },
  {
   "cell_type": "code",
   "execution_count": null,
   "metadata": {
    "collapsed": true
   },
   "outputs": [],
   "source": []
  }
 ],
 "metadata": {
  "hide_input": false,
  "kernelspec": {
   "display_name": "Python 3",
   "language": "python",
   "name": "python3"
  },
  "language_info": {
   "codemirror_mode": {
    "name": "ipython",
    "version": 3
   },
   "file_extension": ".py",
   "mimetype": "text/x-python",
   "name": "python",
   "nbconvert_exporter": "python",
   "pygments_lexer": "ipython3",
   "version": "3.5.1"
  }
 },
 "nbformat": 4,
 "nbformat_minor": 0
}
