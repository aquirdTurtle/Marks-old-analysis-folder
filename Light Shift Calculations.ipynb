{
 "cells": [
  {
   "cell_type": "markdown",
   "metadata": {},
   "source": [
    "# Light shift Calculations"
   ]
  },
  {
   "cell_type": "markdown",
   "metadata": {},
   "source": [
    "**These calculations come from the following paper:**  \n",
    "https://arxiv.org/pdf/physics/9902072v1.pdf  \n",
    "OPTICAL DIPOLE TRAPS FOR NEUTRAL ATOMS  \n",
    "Rudolf Grimm and Matthias Weidemu¨ller \n"
   ]
  },
  {
   "cell_type": "markdown",
   "metadata": {},
   "source": [
    "## Setup"
   ]
  },
  {
   "cell_type": "markdown",
   "metadata": {},
   "source": [
    "### Imports"
   ]
  },
  {
   "cell_type": "code",
   "execution_count": 4,
   "metadata": {
    "ExecuteTime": {
     "end_time": "2016-09-29T23:10:55.595728",
     "start_time": "2016-09-29T23:10:51.877499"
    },
    "collapsed": true
   },
   "outputs": [],
   "source": [
    "import numpy as np\n",
    "import matplotlib.pyplot as plt\n",
    "import matplotlib as mpl"
   ]
  },
  {
   "cell_type": "markdown",
   "metadata": {},
   "source": [
    "### Preferences"
   ]
  },
  {
   "cell_type": "code",
   "execution_count": 5,
   "metadata": {
    "ExecuteTime": {
     "end_time": "2016-09-29T23:10:55.612733",
     "start_time": "2016-09-29T23:10:55.599732"
    },
    "collapsed": false
   },
   "outputs": [],
   "source": [
    "# set matplotlib plot defaults :D\n",
    "# These values are nice for a dark theme.\n",
    "mpl.rcParams['text.color'] = '#ffffff'\n",
    "mpl.rcParams['figure.edgecolor'] = '#ffffff'\n",
    "mpl.rcParams['xtick.color'] = '#ffffff'\n",
    "mpl.rcParams['ytick.color'] = '#ffffff'\n",
    "mpl.rcParams['figure.facecolor'] = '#000000'\n",
    "mpl.rcParams['axes.facecolor'] = '#0a0a0a'\n",
    "mpl.rcParams['figure.figsize'] = (18.0, 8.0)\n",
    "mpl.rcParams['axes.labelcolor'] = '#ffffff'\n",
    "mpl.rcParams['grid.color'] = '#aaaaff'\n",
    "mpl.rcParams['axes.edgecolor'] = '#ffffff'\n",
    "mpl.rcParams['legend.facecolor'] = '#0a0a0a'\n",
    "mpl.rcParams['axes.grid'] = True\n",
    "mpl.rcParams['axes.formatter.useoffset'] = False"
   ]
  },
  {
   "cell_type": "markdown",
   "metadata": {},
   "source": [
    "## Functions"
   ]
  },
  {
   "cell_type": "markdown",
   "metadata": {},
   "source": [
    "### powerFromFrequency(frequency, waist, lightWavelength, latticeWavelength)"
   ]
  },
  {
   "cell_type": "markdown",
   "metadata": {},
   "source": [
    "Assuming a gaussian beam and pi polarization, we have\n",
    "$$\n",
    "Power \\equiv P\\{\\omega_t\\} = -\\frac{(2\\pi)^2 mw_{\\text{beam}}^2\\omega_{\\text{t}}^2\\lambda^2}{8c^2\\bigg(2 \\frac{\\Gamma_{D2}}{\\omega_{D2}^3*\\Delta_{D2}} + \\frac{\\Gamma_{D1}}{\\omega_{D1}^3*\\Delta_{D1}}\\bigg)}\n",
    "$$"
   ]
  },
  {
   "cell_type": "code",
   "execution_count": 6,
   "metadata": {
    "ExecuteTime": {
     "end_time": "2016-09-29T23:10:55.748969",
     "start_time": "2016-09-29T23:10:55.614733"
    },
    "collapsed": false
   },
   "outputs": [],
   "source": [
    "def powerFromFrequency(frequency, waist, lightWavelength, latticeWavelength):    \n",
    "    import numpy as np\n",
    "    ### constants\n",
    "    # in kg\n",
    "    mass = 1.443*10**(-25)\n",
    "    # in Hz\n",
    "    d1TransitionFrequency = 384.2*10**12\n",
    "    d2TransitionFrequency = 377.1*10**12\n",
    "    c = 2.998*10**8\n",
    "    # linewidth is equivalent to the \n",
    "    d1LineWidth = 36.1*10**6\n",
    "    d2LineWidth = 38.11*10**6\n",
    "    # from inputs & constants\n",
    "    detuningFromD1 = d1TransitionFrequency - c / lightWavelength\n",
    "    detuningFromD2 = d2TransitionFrequency - c / lightWavelength\n",
    "    # calculation\n",
    "    power = (((2*np.pi)**2 * mass * (waist**2) * (frequency**2)*(latticeWavelength**2)) \n",
    "            / (8 * (c**2)* (2 * d2LineWidth/(d2TransitionFrequency**3*detuningFromD2) \n",
    "                                       + (d1LineWidth/(d1TransitionFrequency**3*detuningFromD1)))))\n",
    "    return power"
   ]
  },
  {
   "cell_type": "markdown",
   "metadata": {},
   "source": [
    "### trapFrequency(power, waist, lightWavelength, latticeWavelength)"
   ]
  },
  {
   "cell_type": "markdown",
   "metadata": {},
   "source": [
    "We have\n",
    "$$\n",
    "\\text{trap frequency} \\equiv \\nu_t = \\frac{1}{\\lambda_t} \\sqrt{\\frac{2D}{m_{rb}}}= \\sqrt{\\frac{8 c^2  P}{\\lambda_t^2m_{rb}w_{waist}^2(2\\pi)^4}\\bigg(\\frac{2\\Gamma_{D2}}{\\nu_{D2}^3\\Delta_{D2}} + \\frac{\\Gamma_{D1}}{\\nu_{D1}^3\\Delta_{D1}}  \\bigg)}\n",
    "$$"
   ]
  },
  {
   "cell_type": "code",
   "execution_count": 7,
   "metadata": {
    "ExecuteTime": {
     "end_time": "2016-09-29T23:10:55.884306",
     "start_time": "2016-09-29T23:10:55.751961"
    },
    "collapsed": true
   },
   "outputs": [],
   "source": [
    "def trapFrequency(power, waist, lightWavelength, latticeWavelength):\n",
    "    mass = 1.443*10**(-25)\n",
    "    depth = trapDepth(power, waist, lightWavelength)\n",
    "    frequency = (1 /  latticeWavelength) * np.sqrt(2*depth / mass)\n",
    "    return frequency\n",
    "\n"
   ]
  },
  {
   "cell_type": "markdown",
   "metadata": {},
   "source": [
    "### trapDepth(power, waist, lightWavelength)"
   ]
  },
  {
   "cell_type": "markdown",
   "metadata": {},
   "source": [
    "Assuming a Gaussian Beam, we have\n",
    "$$\n",
    "\\text{Depth} \\equiv D = \\frac{4 c^2  P}{w_{waist}^2(2\\pi)^4}\\bigg(\\frac{2\\Gamma_{D2}}{\\nu_{D2}^3\\Delta_{D2}} + \\frac{\\Gamma_{D1}}{\\nu_{D1}^3\\Delta_{D1}}  \\bigg)\n",
    "$$"
   ]
  },
  {
   "cell_type": "code",
   "execution_count": 8,
   "metadata": {
    "ExecuteTime": {
     "end_time": "2016-09-29T23:10:56.020101",
     "start_time": "2016-09-29T23:10:55.888296"
    },
    "collapsed": false
   },
   "outputs": [],
   "source": [
    "def trapDepth(power, waist, lightWavelength):\n",
    "    \"\"\"\n",
    "    Assumes PI polarization (exchange 2->2+P and 1->1-P)\n",
    "    \"\"\"\n",
    "    # in meters/second\n",
    "    c = 2.998*10**8\n",
    "    # in joule-seconds\n",
    "    h = 6.626 * 10**-34\n",
    "    # in Hz\n",
    "    d1TransitionFrequency = 384.2*10**12\n",
    "    d2TransitionFrequency = 377.1*10**12\n",
    "    # natural linewidth is equivalent to the decay rate\n",
    "    d1LineWidth = 36.1*10**6\n",
    "    d2LineWidth = 38.11*10**6\n",
    "    detuningFromD1 = d1TransitionFrequency - c / lightWavelength\n",
    "    detuningFromD2 = d2TransitionFrequency - c / lightWavelength\n",
    "    depth = (((4 * c**2 * power) / (waist**2 * (2*np.pi)**4)) \n",
    "                * (d1LineWidth/(d1TransitionFrequency**3 * detuningFromD1) \n",
    "                   + 2 * d2LineWidth / (d2TransitionFrequency**3 * detuningFromD2)))\n",
    "    return depth\n",
    "      "
   ]
  },
  {
   "cell_type": "markdown",
   "metadata": {},
   "source": [
    "### scatterRate(power, waistAtTrap, lightWavelength)"
   ]
  },
  {
   "cell_type": "markdown",
   "metadata": {},
   "source": [
    "$$\n",
    "\\text{Scattering Rate} \\equiv \\Gamma_{\\text{sc}} = \\frac{4c^2P}{\\hbar w^2(2\\pi)^5}\\bigg(\\frac{2 \\Gamma_{D2}^2}{\\Delta_{D2}^2 \\nu_{D2}^3}+\\frac{\\Gamma_{D1}^2}{\\Delta_{D2}^2 \\nu_{D2}^3}\\bigg)\n",
    "$$"
   ]
  },
  {
   "cell_type": "code",
   "execution_count": 11,
   "metadata": {
    "ExecuteTime": {
     "end_time": "2016-09-29T23:34:15.628712",
     "start_time": "2016-09-29T23:34:15.621699"
    },
    "collapsed": false
   },
   "outputs": [],
   "source": [
    "def scatterRate(power, waist, lightWavelength):\n",
    "    # in meters/second\n",
    "    c = 2.998*10**8\n",
    "    # in Hz\n",
    "    nuD1 = 384.2*10**12\n",
    "    nuD2 = 377.1*10**12\n",
    "    # natural linewidth is equivalent to the decay rate\n",
    "    gammaD1 = 36.1*10**6\n",
    "    gammaD2 = 38.11*10**6\n",
    "    \n",
    "    deltaD1 = nuD1 - c / lightWavelength\n",
    "    deltaD2 = nuD2 - c / lightWavelength\n",
    "    hbar = 1.054*10**-34\n",
    "    scatteringRate = (c**2 * 4 * power / (hbar * waist**2)*(2 * np.pi)**(-5)\n",
    "                    * (2 * gammaD2**2 / (deltaD2**2*nuD2**3) \n",
    "                       + gammaD1**2 / (deltaD1**2*nuD1**3)))\n",
    "    return scatteringRate    "
   ]
  },
  {
   "cell_type": "markdown",
   "metadata": {},
   "source": [
    "### Lattice + Tweezer"
   ]
  },
  {
   "cell_type": "markdown",
   "metadata": {},
   "source": [
    "$$\n",
    "\n",
    "$$"
   ]
  },
  {
   "cell_type": "code",
   "execution_count": 54,
   "metadata": {
    "ExecuteTime": {
     "end_time": "2016-09-30T02:14:28.230558",
     "start_time": "2016-09-30T02:14:28.218536"
    },
    "collapsed": true
   },
   "outputs": [],
   "source": [
    "def latticeTweezerTrapFrequency(tweezerPower, tweezerWaist, latticePower,\n",
    "                                latticeWaist, lightWavelength):\n",
    "    mass = 1.443*10**(-25)\n",
    "    # in Hz\n",
    "    nuD1 = 384.2*10**12\n",
    "    nuD2 = 377.1*10**12\n",
    "    c = 2.998*10**8\n",
    "    # linewidth is equivalent to the \n",
    "    gammaD1 = 36.1*10**6\n",
    "    gammaD2 = 38.11*10**6\n",
    "    # from inputs & constants\n",
    "    deltaD1 = gammaD1 - c / lightWavelength\n",
    "    deltaD2 = gammaD2 - c / lightWavelength\n",
    "    print(trapDepth(latticePower, latticeWaist, lightWavelength)/(6.626*10**-34))\n",
    "    # calculation\n",
    "    omegat = np.sqrt(-(c**2/(mass*(2*np.pi)**3))*(2*gammaD2/(deltaD2*nuD2) \n",
    "                                                  + gammaD1/(deltaD1*nuD1))\n",
    "                     *(8*np.pi*latticePower/(latticeWaist**2*lightWavelength**2)\n",
    "                       +tweezerPower*lightWavelength**2/(np.pi**3*tweezerWaist**6)))\n",
    "    test = np.sqrt(-(c**2/(mass*(2*np.pi)**2))*(2*gammaD2/(deltaD2*nuD2**3) \n",
    "                                                  + gammaD1/(deltaD1*nuD1**3))\n",
    "                     *(4*latticePower/(latticeWaist**2 * lightWavelength**2)))\n",
    "    print('test' + str(test))\n",
    "    return omegat\n",
    "    "
   ]
  },
  {
   "cell_type": "code",
   "execution_count": 55,
   "metadata": {
    "ExecuteTime": {
     "end_time": "2016-09-30T02:14:29.733597",
     "start_time": "2016-09-30T02:14:29.730083"
    },
    "collapsed": false
   },
   "outputs": [
    {
     "name": "stdout",
     "output_type": "stream",
     "text": [
      "762344.5400643384\n",
      "test119250.889547\n",
      "4.52331008157e+19\n",
      "69606.4158223\n"
     ]
    }
   ],
   "source": [
    "print(latticeTweezerTrapFrequency(0, 700*10**-9, 1.4*0.8*0.8*0.9, 170*10**-6, 850*10**-9))\n",
    "print(trapFrequency(1.4*0.8*0.8*0.9, 170*10**-6, 850*10**-9, 850*np.sqrt(2)*10**-9))"
   ]
  },
  {
   "cell_type": "markdown",
   "metadata": {},
   "source": [
    "## Calculations"
   ]
  },
  {
   "cell_type": "code",
   "execution_count": 23,
   "metadata": {
    "ExecuteTime": {
     "end_time": "2016-09-30T00:03:38.336504",
     "start_time": "2016-09-30T00:03:37.965624"
    },
    "collapsed": false
   },
   "outputs": [
    {
     "data": {
      "image/png": "[encoded data removed]",
      "text/plain": [
       "<matplotlib.figure.Figure at 0x1db3668f6d8>"
      ]
     },
     "metadata": {},
     "output_type": "display_data"
    }
   ],
   "source": [
    "import numpy as np\n",
    "# in hertz\n",
    "desiredTrapFrequency = 75*10**3\n",
    "# waist is in meters\n",
    "trapWaist = 170*10**(-6)\n",
    "h = 6.626*10**-34\n",
    "# (in meters) This is different from the wavelength because of the bowtie configuration.\n",
    "powerEstimate = 1.4*0.8*0.8*0.9\n",
    "lightWavelengths = np.linspace(810*10**-9, 860*10**-9, 101)\n",
    "latticeWavelengths = np.sqrt(2) * lightWavelengths\n",
    "trapFrequencies = trapFrequency(powerEstimate, trapWaist, lightWavelengths, latticeWavelengths)\n",
    "depths = trapDepth(powerEstimate, trapWaist, lightWavelengths)\n",
    "scatterRates = scatterRate(powerEstimate, trapWaist, lightWavelengths)\n",
    "index850 = np.where(lightWavelengths==850*10**-9)[0][0]\n",
    "index820 = np.where(lightWavelengths==820*10**-9)[0][0]\n",
    "fig, ax1 = plt.subplots()\n",
    "plt.plot(lightWavelengths, scatterRates, 'r', marker='o', markevery=[index850, index820], label='Scattering Rate')\n",
    "ax1.set_ylabel('Scatter Rate (Hz)', color='r')\n",
    "for tl in ax1.get_yticklabels():\n",
    "    tl.set_color('r')\n",
    "ax1.grid(color='r')\n",
    "ax1.annotate(\"{:.1f}\".format(scatterRates[index850]),\n",
    "             xy=(lightWavelengths[index850], scatterRates[index850]+0.5), color='r')\n",
    "ax1.annotate(\"{:.1f}\".format(scatterRates[index820]),\n",
    "             xy=(lightWavelengths[index820], scatterRates[index820]+0.5), color='r')\n",
    "ax1.legend(loc=6)\n",
    "# second plot\n",
    "ax2 = ax1.twinx()\n",
    "plt.plot(lightWavelengths, depths*10**-3/h, 'y', marker='o', markevery=[index850, index820], label='Trap Depth')\n",
    "ax2.set_ylabel('Depth', color='y')\n",
    "for tl in ax2.get_yticklabels():\n",
    "    tl.set_color('y')\n",
    "ax2.set_yticks(np.arange(0,2200,500))\n",
    "ax2.grid(color='y')\n",
    "ax2.set_ylim(0,2200)\n",
    "ax2.yaxis.set_label_coords(1.035, 0.9)\n",
    "ax2.annotate(\"{:.1f}\".format(depths[index850]*10**-3/h),\n",
    "             xy=(lightWavelengths[index850], depths[index850]*10**-3/h+50), color='y')\n",
    "ax2.annotate(\"{:.1f}\".format(depths[index820]*10**-3/h),\n",
    "             xy=(lightWavelengths[index820], depths[index820]*10**-3/h+50), color='y')\n",
    "ax2.legend(loc=1)\n",
    "# third\n",
    "ax3 = ax1.twinx()\n",
    "plt.plot(lightWavelengths, trapFrequencies*10**-3, 'c', marker='o', markevery=[index850, index820], label='Trap Frequency')\n",
    "ax3.set_ylabel('Trap Frequency', color='c')\n",
    "for tl in ax3.get_yticklabels():\n",
    "    tl.set_color('c')\n",
    "ax3.set_yticks(np.arange(0,130,25))\n",
    "ax3.grid(color='c')\n",
    "ax3.set_ylim(0,130)\n",
    "ax3.yaxis.set_label_coords(1.035, 0.1)\n",
    "ax3.annotate(\"{:.1f}\".format(trapFrequencies[index850]*10**-3),\n",
    "             xy=(lightWavelengths[index850], trapFrequencies[index850]*10**-3+5), color='c')\n",
    "ax3.annotate(\"{:.1f}\".format(trapFrequencies[index820]*10**-3),\n",
    "             xy=(lightWavelengths[index820], trapFrequencies[index820]*10**-3+5), color='c')\n",
    "\n",
    "ax3.set_xlim(810*10**-9, 860*10**-9)\n",
    "ax3.legend(loc=4)\n",
    "plt.title('Trap Parameters at different light wavelengths')\n",
    "plt.show();"
   ]
  },
  {
   "cell_type": "code",
   "execution_count": null,
   "metadata": {
    "collapsed": true
   },
   "outputs": [],
   "source": []
  }
 ],
 "metadata": {
  "anaconda-cloud": {},
  "kernelspec": {
   "display_name": "Python [conda root]",
   "language": "python",
   "name": "conda-root-py"
  },
  "language_info": {
   "codemirror_mode": {
    "name": "ipython",
    "version": 3
   },
   "file_extension": ".py",
   "mimetype": "text/x-python",
   "name": "python",
   "nbconvert_exporter": "python",
   "pygments_lexer": "ipython3",
   "version": "3.5.2"
  }
 },
 "nbformat": 4,
 "nbformat_minor": 1
}
