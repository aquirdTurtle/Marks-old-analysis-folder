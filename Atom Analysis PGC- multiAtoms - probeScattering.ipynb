{
 "cells": [
  {
   "cell_type": "markdown",
   "metadata": {},
   "source": [
    "# Atom Analysis Notebook, first take PGC image then take two probeimage, with a microwave pi pulse before each of them"
   ]
  },
  {
   "cell_type": "markdown",
   "metadata": {},
   "source": [
    "### features: have a general way of analysising the data, independent of the number of picture taking and the number of atoms in the camera view\n",
    "\n",
    "##vertical runs, atomLocation = [wellIndicator-1,1]\n",
    "\n",
    "29 four aotms 200 rep, 5 points 11 9 6 4\n",
    "30 single atom at  6"
   ]
  },
  {
   "cell_type": "markdown",
   "metadata": {},
   "source": [
    "### Initialize Constants"
   ]
  },
  {
   "cell_type": "code",
   "execution_count": 201,
   "metadata": {
    "collapsed": false
   },
   "outputs": [],
   "source": [
    "%matplotlib inline\n",
    "date = \"160817\";\n",
    "#fileName = \"TestTSV\";\n",
    "wellIndicator = [6, 4];\n",
    "accumulations = 200;\n",
    "# Zero-indexed!!!\n",
    "atomLocation = [[wellIndicator[i]-1,1] for i in range(len(wellIndicator))] # assuming vertical orientation\n",
    "#atomLocation = [1, wellIndicator-1];\n",
    "picturesPerExperiment = 2;\n",
    "#imageProbeNum = [1,2]\n",
    "imagePGCNum = [0]\n",
    "atomPeakGuess = 400;\n",
    "EMgain = 5 # for this analysis only PGC #200 #3.97/200*11.4\n",
    "countoffset = 89;\n",
    "run_num = 29"
   ]
  },
  {
   "cell_type": "code",
   "execution_count": 202,
   "metadata": {
    "collapsed": false
   },
   "outputs": [],
   "source": [
    "### Uninteresting stuff.\n",
    "# Data is saved as \"data.fits\" files\n",
    "from astropy.io import fits\n",
    "import numpy as np\n",
    "np.set_printoptions(threshold=np.nan)\n",
    "import matplotlib.pyplot as plt\n",
    "import matplotlib\n",
    "import scipy.optimize\n",
    "import math\n",
    "import scipy.special\n",
    "import itertools # for multiple variables in one for loop\n",
    "\n",
    "%run fitfunctions\n",
    "dataRepositoryPath = \"\\\\\\\\andor\\\\share\\\\Data and documents\\\\Data repository\\\\\";\n",
    "todaysDataPath = dataRepositoryPath + date + \"\\\\Raw Data\\\\data_\" + str(run_num) + \".fits\";\n",
    "keyPath = dataRepositoryPath + date + \"\\\\Raw Data\\\\key_\" + str(run_num) + \".txt\"\n",
    "# todaysDataPath = dataRepositoryPath + date + \"\\\\data.fits\";\n",
    "# keyPath = dataRepositoryPath + \"Key_file\\\\key.txt\""
   ]
  },
  {
   "cell_type": "markdown",
   "metadata": {},
   "source": [
    "### Load Key File"
   ]
  },
  {
   "cell_type": "code",
   "execution_count": 203,
   "metadata": {
    "collapsed": false
   },
   "outputs": [],
   "source": [
    "key = np.array([]);\n",
    "with open(keyPath) as keyFile:\n",
    "    for line in keyFile:\n",
    "        key = np.append(key, float(line.strip('\\n')))\n",
    "#key"
   ]
  },
  {
   "cell_type": "markdown",
   "metadata": {},
   "source": [
    "### Load Fits File & Get Dimensions"
   ]
  },
  {
   "cell_type": "code",
   "execution_count": 204,
   "metadata": {
    "collapsed": true
   },
   "outputs": [],
   "source": [
    "# Get the array from the fits file. That's all I care about.\n",
    "fitsInfo = (fits.open(todaysDataPath, \"append\"));\n",
    "rawData = fitsInfo[0].data;\n",
    "# the .shape member of an array gives an array of the dimesnions of the array.\n",
    "numberOfPictures = rawData.shape[0]; \n",
    "numberOfExperiments = int(numberOfPictures / picturesPerExperiment) \n",
    "horizontalImageDimension = rawData.shape[1]; verticalImageDimension = rawData.shape[2];"
   ]
  },
  {
   "cell_type": "markdown",
   "metadata": {},
   "source": [
    "### Initial Data Analysis"
   ]
  },
  {
   "cell_type": "code",
   "execution_count": 205,
   "metadata": {
    "collapsed": false,
    "scrolled": true
   },
   "outputs": [
    {
     "name": "stdout",
     "output_type": "stream",
     "text": [
      "threshold = [ 87.  69.]\n"
     ]
    },
    {
     "data": {
      "image/png": "[encoded data removed]",
      "text/plain": [
       "<matplotlib.figure.Figure at 0xb238080>"
      ]
     },
     "metadata": {},
     "output_type": "display_data"
    },
    {
     "data": {
      "image/png": "[encoded data removed]",
      "text/plain": [
       "<matplotlib.figure.Figure at 0xb1e76d8>"
      ]
     },
     "metadata": {},
     "output_type": "display_data"
    }
   ],
   "source": [
    "backGnd = []\n",
    "peakData = []\n",
    "fitVals = np.zeros((picturesPerExperiment,4))\n",
    "#threshold = np.zeros((len(atomLocation),picturesPerExperiment)) # here the PGC threshold is reaaly just from the initial image\n",
    "threshold = np.zeros(len(atomLocation)) # here the PGC threshold is reaaly just from the initial image\n",
    "backGnd = [np.array([1/4*(rawData[imageInc][0][0] + rawData[imageInc][horizontalImageDimension-1][verticalImageDimension-1] \n",
    "                             + rawData[imageInc][0][verticalImageDimension-1] + \\\n",
    "                          rawData[imageInc][horizontalImageDimension-1][0]) \\\n",
    "           for imageInc in range(ipicturesPerExperiment, numberOfPictures, picturesPerExperiment)]) \\\n",
    "           for ipicturesPerExperiment in range(0, picturesPerExperiment)]\n",
    "peakData = [[np.array([(rawData[imageInc][atomLocation[atomLoci][0]][atomLocation[atomLoci][1]]- countoffset)/EMgain\n",
    "           for imageInc in range(ipicturesPerExperiment, numberOfPictures, picturesPerExperiment)]) \\\n",
    "           for ipicturesPerExperiment in range(0, picturesPerExperiment)] \\\n",
    "           for atomLoci in range(len(atomLocation)) ] # peakData[0] corresponds to the atomLocation[0]\n",
    "\n",
    "binlength = 1\n",
    "bins = [[np.array(range(0,int(max(peakData[atomLoci][ipicturesPerExperiment])),binlength)) \\\n",
    "        for ipicturesPerExperiment in range(0, picturesPerExperiment)] \\\n",
    "        for atomLoci in range(len(atomLocation)) ] \n",
    "\n",
    "experimentDataBinned = \\\n",
    "    [[np.histogram(peakData[atomLoci][ipicturesPerExperiment], bins=bins[atomLoci][ipicturesPerExperiment])[0] \\\n",
    "        for ipicturesPerExperiment in range(0, picturesPerExperiment)] \\\n",
    "        for atomLoci in range(len(atomLocation)) ] \n",
    "\n",
    "for atomLoci in range(len(atomLocation)):\n",
    "    for ind in imagePGCNum:\n",
    "        plt.figure()\n",
    "        plt.hist(peakData[atomLoci][ind], bins=range(0,int(max(peakData[atomLoci][ind])),1), align='left')\n",
    "        #np.argsort()[-1] finds the max index\n",
    "        guessPt1 = np.argsort(experimentDataBinned[atomLoci][ind])[-1]\n",
    "        ampPt1tpm = np.e**(-guessPt1)\n",
    "        for j in np.array(range(int(guessPt1))):\n",
    "                ampPt1tpm = ampPt1tpm*guessPt1/(j+1)\n",
    "        ampPt1 = experimentDataBinned[atomLoci][ind][guessPt1]/ampPt1tpm\n",
    "        guessPt2 =  np.argsort(experimentDataBinned[atomLoci][ind] -\\\n",
    "                               Poissonfunc(bins[atomLoci][ind][0:-1],guessPt1, ampPt1*2))[-1]\n",
    "        ampPt2tpm = np.e**(-guessPt2)\n",
    "        for j in np.array(range(int(guessPt2))):\n",
    "            ampPt2tpm = ampPt2tpm*guessPt2/(j+1)\n",
    "        ampPt2 = experimentDataBinned[atomLoci][ind][guessPt2]/ampPt2tpm\n",
    "        [guessPtHigh, guessAmpHigh, guessPtLow, guessAmpLow] = [guessPt1, ampPt1, guessPt2, ampPt2] if guessPt1 > guessPt2 \\\n",
    "                                                else [guessPt2, ampPt2, guessPt1, ampPt1]\n",
    "        #print([guessHigh, ampHigh, guessLow, ampLow ])\n",
    "        guess = [guessPtLow, guessAmpLow, guessPtHigh, guessAmpHigh]\n",
    "        #guess = [10, 200, guessPtHigh, guessAmpHigh]\n",
    "        #print(guess)\n",
    "        fitVals[ind], dummy = scipy.optimize.curve_fit(Poissonfunc2, bins[atomLoci][ind][0:-1], \\\n",
    "                                                       experimentDataBinned[atomLoci][ind], guess);\n",
    "        plt.plot(bins[atomLoci][ind][0:-1],Poissonfunc2(bins[atomLoci][ind][0:-1], \\\n",
    "                                                           fitVals[ind][0],fitVals[ind][1],fitVals[ind][2],fitVals[ind][3]));\n",
    "        threshold[atomLoci] = min(int(fitVals[ind][0]),int(fitVals[ind][2]))+\\\n",
    "            np.argsort(Poissonfunc2(bins[atomLoci][ind]\\\n",
    "            [min(int(fitVals[ind][0]),int(fitVals[ind][2])):max(int(fitVals[ind][0]),int(fitVals[ind][2]))],\\\n",
    "                                fitVals[ind][0],fitVals[ind][1],fitVals[ind][2],fitVals[ind][3]))[0]\n",
    "    #print(fitVals)\n",
    "print('threshold =',threshold)\n",
    "\n"
   ]
  },
  {
   "cell_type": "code",
   "execution_count": 211,
   "metadata": {
    "collapsed": false,
    "scrolled": true
   },
   "outputs": [
    {
     "data": {
      "text/plain": [
       "<Container object of 3 artists>"
      ]
     },
     "execution_count": 211,
     "metadata": {},
     "output_type": "execute_result"
    },
    {
     "data": {
      "image/png": "[encoded data removed]",
      "text/plain": [
       "<matplotlib.figure.Figure at 0xdcb4940>"
      ]
     },
     "metadata": {},
     "output_type": "display_data"
    }
   ],
   "source": [
    "bright = []\n",
    "loaded = []\n",
    "for atomLoci in range(len(atomLocation)):\n",
    "    loaded.append( np.array(peakData[atomLoci][0] > threshold[atomLoci]) )\n",
    "    bright.append( np.array(peakData[atomLoci][1] > threshold[atomLoci]) )\n",
    "\n",
    "loadedAll = loaded[0] # ini the list for loaded all atoms in each well\n",
    "for atomLoci in range(1,len(atomLocation)):\n",
    "    loadedAll = loadedAll & loaded[atomLoci]  # getting the events that loaded 4 atoms do not use &=\n",
    "\n",
    "loadedAllthenBright = []\n",
    "loadedAllthenBright_list = []\n",
    "loadedAllthenBright_err_list = []\n",
    "for atomLoci in range(len(atomLocation)):\n",
    "    loadedAllthenBright_tmp = np.array(loadedAll & bright[atomLoci]) +0 # converting from Boolean to numbers\n",
    "    loadedAllthenBright.append(loadedAllthenBright_tmp) # reading from the second PGC\n",
    "    loadedAllthenBright_list_tmp = [] # ini the list with axis as the key\n",
    "    loadedAllthenBright_list_err_tmp = [] # ini the list with axis as the key\n",
    "    for keyi in range(len(key)):\n",
    "        tmp_denom = np.sum(loadedAll[keyi*accumulations:(keyi+1)*accumulations])\n",
    "        tmp = np.sum(loadedAllthenBright_tmp[keyi*accumulations:(keyi+1)*accumulations])/ tmp_denom         \n",
    "        loadedAllthenBright_list_tmp.append(tmp)\n",
    "        loadedAllthenBright_list_err_tmp.append(np.sqrt(tmp*(1-tmp)/tmp_denom))\n",
    "    loadedAllthenBright_list.append(loadedAllthenBright_list_tmp)\n",
    "    loadedAllthenBright_err_list.append(loadedAllthenBright_list_err_tmp)\n",
    "\n",
    "#plt.figure()\n",
    "#plt.plot(key, np.array(loadedAllthenBright_list[1])+np.array(loadedAllthenBright_list[0]))\n",
    "\n",
    "#plt.figure()\n",
    "#plt.errorbar(key, loadedAllthenBright_list[0], yerr=loadedAllthenBright_err_list[0], fmt='o')  \n",
    "\n",
    "#plt.figure()\n",
    "#plt.errorbar(key, loadedAllthenBright_list[1], yerr=loadedAllthenBright_err_list[1], fmt='o')    \n",
    "\n",
    "plt.figure()\n",
    "plt.errorbar(key, np.array(loadedAllthenBright_list[0])+np.array(loadedAllthenBright_list[1]),\\\n",
    "             yerr=np.sqrt(np.array(loadedAllthenBright_err_list[0])**2+np.array(loadedAllthenBright_err_list[0])**2)\\\n",
    "                          , fmt='o')  \n",
    "#+\\np.array(loadedAllthenBright_list[2])+np.array(loadedAllthenBright_list[3])\n",
    "\n",
    "loadedSinglethenBright = []\n",
    "loadedSinglethenBright_list = []\n",
    "loadedSinglethenBright_err_list = []\n",
    "loadedSingle_tmp = []\n",
    "loadedSingle = []\n",
    "for atomLoci in range(len(atomLocation)):\n",
    "    loadedSingle_tmp = loaded[atomLoci]\n",
    "    for atomLocii in range(len(atomLocation)):\n",
    "        if atomLocii != atomLoci:\n",
    "            loadedSingle_tmp = loadedSingle_tmp & (1-loaded[atomLocii]) # exclude events that other site is loaded\n",
    "            #print(np.sum(loadedSingle_tmp))\n",
    "    loadedSingle.append(loadedSingle_tmp)\n",
    "    loadedSinglethenBright_tmp = np.array(loadedSingle_tmp & bright[atomLoci])\n",
    "    loadedSinglethenBright.append(loadedSinglethenBright_tmp)\n",
    "    loadedSinglethenBright_list_tmp = [] # ini the list with axis as the key\n",
    "    loadedSinglethenBright_list_err_tmp = [] # ini the list with axis as the key\n",
    "    for keyi in range(len(key)):\n",
    "        tmp_denom = np.sum(loadedSingle_tmp[keyi*accumulations:(keyi+1)*accumulations])\n",
    "        tmp = np.sum(loadedSinglethenBright_tmp[keyi*accumulations:(keyi+1)*accumulations])/tmp_denom\n",
    "        loadedSinglethenBright_list_tmp.append(tmp)\n",
    "        loadedSinglethenBright_list_err_tmp.append(np.sqrt(tmp*(1-tmp)/tmp_denom))\n",
    "    loadedSinglethenBright_list.append(loadedSinglethenBright_list_tmp)\n",
    "    loadedSinglethenBright_err_list.append(loadedSinglethenBright_list_err_tmp)\n",
    "\n",
    "#plt.figure()\n",
    "plt.errorbar(key, np.array(loadedSinglethenBright_list[0])+np.array(loadedSinglethenBright_list[1]),\\\n",
    "             yerr=np.sqrt(np.array(loadedSinglethenBright_err_list[0])**2+np.array(loadedSinglethenBright_err_list[0])**2)\\\n",
    "                          , fmt='o')    \n",
    "#np.array(loadedSinglethenBright_list[2])+np.array(loadedSinglethenBright_list[3])\n",
    "\n",
    "#plt.figure()\n",
    "#plt.errorbar(key, loadedSinglethenBright_list[0], yerr=loadedSinglethenBright_err_list[0], fmt='o')  \n",
    "\n",
    "#plt.figure()\n",
    "#plt.errorbar(key, loadedSinglethenBright_list[1], yerr=loadedSinglethenBright_err_list[1], fmt='o')    "
   ]
  },
  {
   "cell_type": "code",
   "execution_count": 207,
   "metadata": {
    "collapsed": false
   },
   "outputs": [
    {
     "data": {
      "text/plain": [
       "272"
      ]
     },
     "execution_count": 207,
     "metadata": {},
     "output_type": "execute_result"
    }
   ],
   "source": [
    "np.sum(loadedSingle)"
   ]
  },
  {
   "cell_type": "code",
   "execution_count": 208,
   "metadata": {
    "collapsed": false
   },
   "outputs": [
    {
     "data": {
      "text/plain": [
       "693"
      ]
     },
     "execution_count": 208,
     "metadata": {},
     "output_type": "execute_result"
    }
   ],
   "source": [
    "np.sum(loadedAll)"
   ]
  },
  {
   "cell_type": "code",
   "execution_count": null,
   "metadata": {
    "collapsed": true
   },
   "outputs": [],
   "source": []
  }
 ],
 "metadata": {
  "hide_input": false,
  "kernelspec": {
   "display_name": "Python 3",
   "language": "python",
   "name": "python3"
  },
  "language_info": {
   "codemirror_mode": {
    "name": "ipython",
    "version": 3
   },
   "file_extension": ".py",
   "mimetype": "text/x-python",
   "name": "python",
   "nbconvert_exporter": "python",
   "pygments_lexer": "ipython3",
   "version": "3.5.2"
  }
 },
 "nbformat": 4,
 "nbformat_minor": 0
}
