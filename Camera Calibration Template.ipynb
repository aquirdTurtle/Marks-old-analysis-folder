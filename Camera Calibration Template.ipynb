{
 "cells": [
  {
   "cell_type": "markdown",
   "metadata": {},
   "source": [
    "# Camera Calibrations Template (DO NOT OVERWRITE)"
   ]
  },
  {
   "cell_type": "markdown",
   "metadata": {},
   "source": [
    "This notebook is based on the camera calibrations template notebook.\n",
    "\n",
    "This notebook analyzes a series of pictures and from them derives the photons/count rate of the camera for the given mode.\n",
    "\n",
    "It can do either averaging all pixels over a large picture (where we worry about spatial inhomogeneity) or averaging a single location over many pictures."
   ]
  },
  {
   "cell_type": "markdown",
   "metadata": {
    "heading_collapsed": true
   },
   "source": [
    "## Imports and Defines"
   ]
  },
  {
   "cell_type": "code",
   "execution_count": 7,
   "metadata": {
    "ExecuteTime": {
     "end_time": "2016-09-07T17:05:36.587233",
     "start_time": "2016-09-07T17:05:35.857389"
    },
    "collapsed": true,
    "hidden": true
   },
   "outputs": [],
   "source": [
    "import numpy as np\n",
    "import matplotlib.pyplot as plt\n",
    "from astropy.io import fits\n",
    "from scipy.optimize import curve_fit as fit"
   ]
  },
  {
   "cell_type": "markdown",
   "metadata": {
    "heading_collapsed": true
   },
   "source": [
    "## Function Definitions"
   ]
  },
  {
   "cell_type": "code",
   "execution_count": 8,
   "metadata": {
    "ExecuteTime": {
     "end_time": "2016-09-07T17:05:38.879982",
     "start_time": "2016-09-07T17:05:38.859980"
    },
    "code_folding": [],
    "collapsed": true,
    "hidden": true
   },
   "outputs": [],
   "source": [
    "def line(x, a, b):\n",
    "    return a * x + b\n",
    "\n",
    "\n",
    "def analyzeSinglePicture(date, run):\n",
    "    \"\"\"\n",
    "    Analyzes a single picture, averaging over all pixels.\n",
    "    \"\"\"\n",
    "\n",
    "    \n",
    "def analyzeSingleLocation(date, firstRun, lastRun, location, printStatus=False):\n",
    "    \"\"\"\n",
    "    Analyzes a single location, averaging over many pictures.\n",
    "    The function assumes that there is a data file for all runs in between firstrun and lastrun.\n",
    "    \n",
    "    :return: The functino returns the fit object (i.e. an array of [a, b] for the linear fit y = a x + b) and \n",
    "    the covariance of said fit.\n",
    "    \"\"\"\n",
    "    allAverages = []\n",
    "    allVariances = []\n",
    "    dataRepositoryPath = \"\\\\\\\\andor\\\\share\\\\Data and documents\\\\Data repository\\\\\"\n",
    "\n",
    "    # concatenate the data twice.\n",
    "    for runInc in range(firstRun, lastRun + 1, 1):\n",
    "        allPoints = []\n",
    "        if (printStatus):\n",
    "            print(\"Analyzing run # \" + str(runInc))\n",
    "        todaysDataPath = dataRepositoryPath + date + \"\\\\Raw Data\\\\data_\" + str(runInc) + \".fits\"\n",
    "        for repInc in range(0, 1000):\n",
    "            dataFile = fits.open(todaysDataPath, \"append\")\n",
    "            allPoints.append(dataFile[0].data[repInc][location[0]][location[1]])\n",
    "        allAverages.append(np.mean(allPoints))\n",
    "        allVariances.append(np.std(allPoints)**2)\n",
    "        \n",
    "    param, cov = fit(line, allAverages, allVariances, [1, 0])\n",
    "    \n",
    "    return param, cov, 1 / param[0]\n",
    "        "
   ]
  },
  {
   "cell_type": "markdown",
   "metadata": {},
   "source": [
    "## Data Analysis"
   ]
  },
  {
   "cell_type": "code",
   "execution_count": 1,
   "metadata": {
    "ExecuteTime": {
     "end_time": "2016-09-07T20:39:25.996919",
     "start_time": "2016-09-07T20:39:25.946916"
    },
    "collapsed": false
   },
   "outputs": [
    {
     "data": {
      "text/plain": [
       "65536"
      ]
     },
     "execution_count": 1,
     "metadata": {},
     "output_type": "execute_result"
    }
   ],
   "source": [
    "2**16"
   ]
  },
  {
   "cell_type": "code",
   "execution_count": null,
   "metadata": {
    "collapsed": true
   },
   "outputs": [],
   "source": []
  }
 ],
 "metadata": {
  "hide_input": false,
  "kernelspec": {
   "display_name": "Python [default]",
   "language": "python",
   "name": "python3"
  },
  "language_info": {
   "codemirror_mode": {
    "name": "ipython",
    "version": 3
   },
   "file_extension": ".py",
   "mimetype": "text/x-python",
   "name": "python",
   "nbconvert_exporter": "python",
   "pygments_lexer": "ipython3",
   "version": "3.5.2"
  },
  "nav_menu": {},
  "toc": {
   "navigate_menu": true,
   "number_sections": true,
   "sideBar": true,
   "threshold": 6,
   "toc_cell": false,
   "toc_section_display": "block",
   "toc_window_display": true
  },
  "toc_position": {
   "height": "566px",
   "left": "0px",
   "right": "auto",
   "top": "67px",
   "width": "131px"
  }
 },
 "nbformat": 4,
 "nbformat_minor": 0
}
