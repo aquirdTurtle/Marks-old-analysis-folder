{
 "cells": [
  {
   "cell_type": "markdown",
   "metadata": {},
   "source": [
    "# Lattice Angle Tolerance Calculations"
   ]
  },
  {
   "cell_type": "markdown",
   "metadata": {},
   "source": [
    "##### Imports"
   ]
  },
  {
   "cell_type": "code",
   "execution_count": 227,
   "metadata": {
    "collapsed": false
   },
   "outputs": [],
   "source": [
    "import numpy as np\n",
    "import scipy.optimize as sp_opt\n",
    "from sympy import latex"
   ]
  },
  {
   "cell_type": "markdown",
   "metadata": {},
   "source": [
    "##### Constants"
   ]
  },
  {
   "cell_type": "code",
   "execution_count": 228,
   "metadata": {
    "collapsed": true
   },
   "outputs": [],
   "source": [
    "# The distance between mirrors. This will probably be a bit underneath 44.\n",
    "d = 44\n",
    "# the optimal angle, as determined by other code\n",
    "# convert to degrees\n",
    "theta_0 = 44.94 * np.pi / 180\n",
    "# the diameter of the mirror:\n",
    "mirror_diameter = 2\n",
    "# the y tolerance\n",
    "dy_tol = 0.59255872135"
   ]
  },
  {
   "cell_type": "markdown",
   "metadata": {},
   "source": [
    "## Basic Calculations"
   ]
  },
  {
   "cell_type": "markdown",
   "metadata": {},
   "source": [
    "I consider the two paths of the two beams with one path held constant and the other being varied based on the angle of the mirror. \n",
    "\n",
    "I set the variable path to be centered (i.e. the reflection's location) at the origin, and the other path is constant. Then, the points along the variable path, in for a given θ, is\n",
    "$$z=r\\cos(θ),  y=r\\sin(θ)$$\n",
    "$$y=\\tan(θ)*z$$\n",
    "The equation of the other one is\n",
    "$$y=\\tan(-θ_0) * z+d =-\\tan(θ_0) * z+d  $$\n",
    "for the distance between the two mirrors being d.\n",
    "Solve:\n",
    "$$−\\tan(θ_0) * z+d=\\frac{\\sin(θ)}{cos(θ)} *z → z(\\tan(θ_0)+tan(θ) )=d$$\n",
    "$$z=\\frac{d}{\\tan(θ_0)+\\tan(θ)},  y=\\frac{(d \\tan(θ))}{\\tan(θ_0)+\\tan(θ)})$$"
   ]
  },
  {
   "cell_type": "markdown",
   "metadata": {},
   "source": [
    "# example\n",
    "$$ x = \\frac{1}{5}$$"
   ]
  },
  {
   "cell_type": "code",
   "execution_count": 229,
   "metadata": {
    "collapsed": false
   },
   "outputs": [],
   "source": [
    "# Calculating the position of the intersection of the two lines:\n",
    "def intersection(input_theta_0, input_dtheta, input_d, input_dx):\n",
    "    z = ((d + input_dx * np.tan(input_theta_0 - input_dtheta)) \n",
    "    / (np.tan(input_theta_0 + input_dtheta) \n",
    "       + np.tan(input_theta_0 - input_dtheta)))\n",
    "    y = ((d + input_dx * np.tan(input_theta_0 - input_dtheta)) \n",
    "         * np.tan(input_theta_0 + input_dtheta)\n",
    "    / (np.tan(input_theta_0 + input_dtheta) \n",
    "       + np.tan(input_theta_0 - input_dtheta)))\n",
    "    return(z,y)"
   ]
  },
  {
   "cell_type": "code",
   "execution_count": 230,
   "metadata": {
    "collapsed": false
   },
   "outputs": [],
   "source": [
    "def angle_tolerance(input_theta_0, input_d, input_tolerance):\n",
    "    def f1(p): \n",
    "        theta = p\n",
    "        return(input_d * np.sqrt((1 / (np.tan(input_theta_0) \n",
    "                                            + np.tan(theta)) - \n",
    "                      1 / (2 * np.tan(input_theta_0)))**2 + \n",
    "                     (np.tan(input_theta_0) / (np.tan(input_theta_0) \n",
    "                                             + np.tan(input_theta_0)) \n",
    "                      - 1 / 2)**2 ) - input_tolerance)\n",
    "    return(sp_opt.fsolve(f1, np.pi/4))"
   ]
  },
  {
   "cell_type": "code",
   "execution_count": 231,
   "metadata": {
    "collapsed": false,
    "scrolled": true
   },
   "outputs": [
    {
     "name": "stdout",
     "output_type": "stream",
     "text": [
      "The optimal intersection: (z_0, y_0) = ( 22.0461250111 , 22.0 )\n"
     ]
    }
   ],
   "source": [
    "z_0, y_0 = intersection(theta_0, 0, d, 0)\n",
    "print(\"The optimal intersection: (z_0, y_0) = (\", z_0, \",\", y_0, \")\")"
   ]
  },
  {
   "cell_type": "markdown",
   "metadata": {},
   "source": [
    "## Positional Tolerances"
   ]
  },
  {
   "cell_type": "markdown",
   "metadata": {},
   "source": [
    "### X and Z Tolerances"
   ]
  },
  {
   "cell_type": "markdown",
   "metadata": {},
   "source": [
    "We can move the mirrors around in the x and z directions directly (keeping the incident angles constant) in order to adjust the lattice position in these directions. Suppose we get a mirror of diameter $d_{mirror}$, and suppose the usable region of that mirror is $\\Delta x_{mir} = \\frac{4d_{mirror}}{5}$. Then, our tolerance in the x and z directions is $\\Delta x_{tol} = \\Delta z_{tol} = \\frac{\\Delta x_{mir}}{2} = \\pm \\frac{2d_{mirror}}{5}$"
   ]
  },
  {
   "cell_type": "code",
   "execution_count": 232,
   "metadata": {
    "collapsed": false
   },
   "outputs": [],
   "source": [
    "dx_tol = 2 * mirror_diameter / 5\n",
    "dz_tol = 2 * mirror_diameter / 5\n",
    "dx_mir = 4 * mirror_diameter / 5"
   ]
  },
  {
   "cell_type": "markdown",
   "metadata": {},
   "source": [
    "### Calculating the Y Positional Tolerance"
   ]
  },
  {
   "cell_type": "markdown",
   "metadata": {},
   "source": [
    "We can modify the y position of our lattice by just aiming the beam so that it hits the outer edge (the edge far away from the lens) of one mirror and angling it so that it hits the inner edge of the second mirror (the edge closer to the lens). With this angling, the angle of both of the incoming and outgoing beams changes such that the total trap is shifted in the vertical direction. Unfortunately, this angling also changes the z-coordinate of the intercept of these beams, meaning that changing the y-position of our lattice is coupled to changing the z-position of the lattice. This makes calculates somewhat more complicated.\n",
    "\n",
    "The maximum angle that we can aim at is deterimined by the size of the mirror by $$Δx_{mir}=4d_{mir}/5, Δy_{mir}=d mm →Δθ=\\tan^{-1}(\\Delta x_{mir} / \\Delta y_{mir}) = \\tan^{-1}(4d_{mir}/5d)$$ I can add this  to the angle of the beams. In order to calculate the tolerance here, I will calculate the full distance in y achieved by this maximum displacement. I place the bottom, farther back than the other one, and assume that the beam hitting it comes at best angle $θ_0$  modulo the $Δθ$ in the positive sense: $θ=θ_0+Δθ_0$. The other beam is displaced in y by $d$ and in x by $4d_{mirror}/5$ and comes with the best angle $θ_0$  modulo the $Δθ$ in the negative sense: $θ=θ_0−Δθ$\n",
    "\n",
    "Calculating the new solution:\n",
    "$$x=r\\cos(θ_0+Δθ),  y=r\\sin(θ_0+Δθ)$$\n",
    "$$y=\\tan(θ_0+Δθ) * \\Delta x_{mir}$$\n",
    "The equation of the other one is\n",
    "$$y=−\\tan(θ_0−Δθ) x+d+Δx_{mir}\\tan(θ_0−Δθ)$$\n",
    "for the distance between the two mirrors being d.\n",
    "The extra term comes from the new y intercept of it which is no longer d but $d+Δx_{mir}\\tan(θ_0−Δθ)$.\n",
    "Solve:\n",
    "$$−\\tan(θ_0−Δθ) x+d+Δx_{mir}\\tan(θ_0−Δθ)=\\tan(θ_0+Δθ) x$$\n",
    "$$x(\\tan(θ_0+Δθ)+\\tan(θ_0−Δθ) )=d+Δx_{mir}\\tan(θ_0−Δθ)$$\n",
    "$$x=\\frac{d+Δx_{mir} \\tan(θ_0−Δθ)}{\\tan(θ_0+Δθ)+\\tan(θ_0−Δθ)},  y=\\frac{(d+Δx_{mir} \\tan(θ_0−Δθ) )  \\tan(θ_0+Δθ)}{\\tan(θ_0+Δθ)+\\tan(θ_0−Δθ) }$$"
   ]
  },
  {
   "cell_type": "code",
   "execution_count": 233,
   "metadata": {
    "collapsed": false
   },
   "outputs": [
    {
     "name": "stdout",
     "output_type": "stream",
     "text": [
      "dtheta = 0.036347621019 ,\n",
      "(z,y) = ( 22.7299147859 , 24.3941039189 )\n",
      "(dz,dy_tol) = ( 0.683789774835 , 2.3941039189 )\n"
     ]
    }
   ],
   "source": [
    "dtheta = np.arctan(dx_mir / d)\n",
    "z, y = intersection(theta_0, dtheta, d, dx_mir)\n",
    "print(\"dtheta =\",dtheta,\",\\n(z,y) = (\",z,\",\",y,\")\")\n",
    "# The number I'm interested in\n",
    "dy_tol = y - y_0\n",
    "# the associated z shifting.\n",
    "dz_y_tol = z - z_0\n",
    "print(\"(dz,dy_tol) = (\", dz_y_tol, \",\", dy_tol, \")\")"
   ]
  },
  {
   "cell_type": "markdown",
   "metadata": {},
   "source": [
    "This change in x is close to our manipulatability in x to compensate. So, assuming we have to compensate fully, then we could only have half this range. That means:\n"
   ]
  },
  {
   "cell_type": "code",
   "execution_count": 234,
   "metadata": {
    "collapsed": false
   },
   "outputs": [
    {
     "name": "stdout",
     "output_type": "stream",
     "text": [
      "dy_tol_eff = 1.19705195945\n"
     ]
    }
   ],
   "source": [
    "dy_tol_eff = dy_tol / 2\n",
    "print(\"dy_tol_eff =\", dy_tol_eff)"
   ]
  },
  {
   "cell_type": "markdown",
   "metadata": {},
   "source": [
    "Note that there is an implicit approximation here that the flexibility range is the same in both the + and negative directions. This is only a good approximation around theta_0 = 45 degrees."
   ]
  },
  {
   "cell_type": "markdown",
   "metadata": {},
   "source": [
    "## Corresponding Angular Tolerances"
   ]
  },
  {
   "cell_type": "markdown",
   "metadata": {},
   "source": [
    "### X Angular Tolerance"
   ]
  },
  {
   "cell_type": "markdown",
   "metadata": {},
   "source": [
    "The x angular tolerance is easy to calculate, since it is decoupled from the y and z tolerances. The positional tolerance $dx_{tol}$ and the position $x_0$ correspond to some angle $\\tan(2*\\theta_{xtoll}) = \\frac{dx_{toll}}{x_0}$, where the factor of 2 comes from the reflection of a beam based on picking up 2 times the angle because of angle of incidence = angle of reflection. Calculating this angle gives:"
   ]
  },
  {
   "cell_type": "code",
   "execution_count": 235,
   "metadata": {
    "collapsed": false
   },
   "outputs": [
    {
     "name": "stdout",
     "output_type": "stream",
     "text": [
      "In radians: 0.0181358205498 \n",
      "In degrees: 1.03910597551\n"
     ]
    }
   ],
   "source": [
    "theta_x_tol = np.arctan(dx_tol / x_0) / 2\n",
    "print(\"In radians:\", theta_x_tol, \"\\nIn degrees:\", theta_x_tol*180/np.pi)"
   ]
  },
  {
   "cell_type": "markdown",
   "metadata": {},
   "source": [
    "### YZ Angular Tolerance"
   ]
  },
  {
   "cell_type": "markdown",
   "metadata": {},
   "source": [
    "I want to calculate an angular tolerance in the y,z angle that takes into account both the y tolerance and the z tolerance, slightly non-trivial. In general, I'm going to have some region of space around the center which is within my tolerance levels. I'm interested in the distance of the edge of this region, which can be given in terms of the x and y coordinates of this region:\n",
    "r = sqrt(x^2+y^2)\n",
    "for some points (x,y) on the perimeter of this region.\n",
    "In this case my region is not a circle but an ellipse (since dy_tol_eff =/= dz_tol). I approximate this ellipse by having minor axis dz_tol and major axis dy_tol_eff. \n",
    "\n",
    "(Really the ellipse would not have major axis in the y direction and and minor axis in the z-direction. As I calculated earlier, trying to adjust in the +y direction automatically pushes the lattice intersection in the +z direction. We therefore have a larger tolerance in the +y,+z and -y,-z directions than we do in the +y,-z or -y,+z directions. The actual ellipse would then be rotated to some funny angle, but this is getting rather non-trivial to calculate so I take the minimum tolerance as being true in both +y,+z and +y,-z etc, approximating this as a nice ellipse. If really pushed for the tolerances, this more complicated calculation could be done to see what the limits would really be.)\n",
    "\n",
    "The equation of this (nice, approximate) ellipse is\n",
    "\n",
    "$(x/x_0)^2 + (y/y_0)^2 = 1 \\rightarrow y^2 = y_0^2 * (1 - (x/x_0)^2)$\n",
    "If I plug these numbers into my radius equation, then I get the radius of my ellipse as a function of x\n",
    "$$r = \\sqrt{x^2 + (y_0^2 * (1 - (x/x_0)^2))} = \\sqrt{x^2 + y_0^2 - (y_0/x_0)^2*x^2} = \\sqrt{x^2(1 - (y_0/x_0)^2)+y_0^2} = \\sqrt{r^2*\\cos^2(\\theta)(1 - (y_0 / x_0)^2) + y_0^2}$$\n",
    "$$r^2 = r^2*\\cos^2(\\theta)(1 - (y_0 / x_0)^2) + y_0^2$$\n",
    "$$r^2(1-\\cos^2(\\theta)(1-(y_0 / x_0)^2) = y_0^2$$\n",
    "$$r^2 = \\frac{y_0^2}{(1 - \\cos^2(\\theta) * (1-(y_0/x_0)^2)}$$\n",
    "\n",
    "If I then plug in my y and z tolerances and the angle I want to work on, then I get the total distance tolerance that I can have."
   ]
  },
  {
   "cell_type": "code",
   "execution_count": 236,
   "metadata": {
    "collapsed": false
   },
   "outputs": [
    {
     "name": "stdout",
     "output_type": "stream",
     "text": [
      "0.94026748154\n"
     ]
    }
   ],
   "source": [
    "yz_tol = np.sqrt(dy_tol_eff**2 / (1 - (np.cos(theta_0))**2*(1-(dy_tol_eff / dz_tol)**2)))\n",
    "print(yz_tol)"
   ]
  },
  {
   "cell_type": "markdown",
   "metadata": {},
   "source": [
    "Calculating the angle that corresponds to this distance tolerance using my previously define function:"
   ]
  },
  {
   "cell_type": "code",
   "execution_count": 237,
   "metadata": {
    "collapsed": false
   },
   "outputs": [
    {
     "name": "stdout",
     "output_type": "stream",
     "text": [
      "in radians: [ 0.02131394] \n",
      "In degrees: [ 1.22119906]\n"
     ]
    }
   ],
   "source": [
    "theta_yz_tol = (angle_tolerance(theta_0, d, yz_tol) - theta_0)/2\n",
    "print(\"in radians:\", theta_yz_tol, \"\\nIn degrees:\", theta_yz_tol * 180/np.pi)"
   ]
  },
  {
   "cell_type": "markdown",
   "metadata": {},
   "source": [
    "## Conclusions"
   ]
  },
  {
   "cell_type": "code",
   "execution_count": 238,
   "metadata": {
    "collapsed": false
   },
   "outputs": [
    {
     "name": "stdout",
     "output_type": "stream",
     "text": [
      "In conclusion, the angle tolerance in the x direction is +-1.0391059755084762 degrees and my angle tolerance in the yz direction is +-[ 1.22119906] degrees, but probabily a little better in the yz direction because of my approximation made earlier. Both of those are assuming a of 2 mm in diameter, and would be higher for larger mirrors.\n"
     ]
    }
   ],
   "source": [
    "print(\"In conclusion, the angle tolerance in the x direction is +-{} \"\n",
    "      \"degrees and my angle tolerance in the yz direction is +-{} degrees,\"\n",
    "      \" but probabily a little better in the yz direction because of my \"\n",
    "      \"approximation made earlier. Both of those are assuming \"\n",
    "      \"a\".format(theta_x_tol * 180 / np.pi, theta_yz_tol * 180/np.pi),\n",
    "      \"of {} mm in diameter, and would be higher for larger mirrors\"\n",
    "      \".\".format(mirror_diameter))"
   ]
  }
 ],
 "metadata": {
  "anaconda-cloud": {},
  "kernelspec": {
   "display_name": "Python [default]",
   "language": "python",
   "name": "python3"
  },
  "language_info": {
   "codemirror_mode": {
    "name": "ipython",
    "version": 3
   },
   "file_extension": ".py",
   "mimetype": "text/x-python",
   "name": "python",
   "nbconvert_exporter": "python",
   "pygments_lexer": "ipython3",
   "version": "3.5.2"
  }
 },
 "nbformat": 4,
 "nbformat_minor": 0
}
